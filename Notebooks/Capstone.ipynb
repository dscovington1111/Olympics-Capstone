{
 "cells": [
  {
   "cell_type": "code",
   "execution_count": null,
   "id": "9d8b9387-01cb-445a-90b3-82961932056b",
   "metadata": {},
   "outputs": [],
   "source": [
    "import pandas as pd\n",
    "import numpy as np\n",
    "import re \n",
    "import matplotlib.pyplot as plt\n",
    "import seaborn as sns"
   ]
  },
  {
   "cell_type": "code",
   "execution_count": null,
   "id": "606387a6-c194-463e-92a3-b0044e257f98",
   "metadata": {
    "scrolled": true
   },
   "outputs": [],
   "source": [
    "life_exp = pd.read_csv('../data/life-expectancy.csv')\n",
    "life_exp"
   ]
  },
  {
   "cell_type": "code",
   "execution_count": null,
   "id": "81f5e0c6-c774-4551-84cb-5ad227367b98",
   "metadata": {
    "scrolled": true
   },
   "outputs": [],
   "source": [
    "life_exp = life_exp.rename(columns= {\n",
    "    \"Entity\": \"Country Name\", \n",
    "    \"Code\": \"Country Code\", \n",
    "    \"Period life expectancy at birth - Sex: total - Age: 0\": \"Life Expectancy\"})\n",
    "life_exp"
   ]
  },
  {
   "cell_type": "code",
   "execution_count": null,
   "id": "738f7fc1-c90d-4d64-b0a0-f7ac4f32f5e0",
   "metadata": {},
   "outputs": [],
   "source": [
    "usa_life_exp = life_exp.loc[(life_exp['Country Code'] == 'USA') & (life_exp['Year'] >= 1960)].reset_index(drop=True)\n",
    "usa_life_exp"
   ]
  },
  {
   "cell_type": "code",
   "execution_count": null,
   "id": "1094aec8-0c5b-4318-9d98-9104dd759059",
   "metadata": {},
   "outputs": [],
   "source": [
    "usa_life_exp.to_csv('usa_life_exp.csv', index=False)"
   ]
  },
  {
   "cell_type": "code",
   "execution_count": null,
   "id": "82141d3d-8892-47d4-b81d-092528cae9dd",
   "metadata": {
    "scrolled": true
   },
   "outputs": [],
   "source": [
    "gdp_per_capita = pd.read_csv('../data/gdp_per_cap_Data.csv')\n",
    "gdp_per_capita = gdp_per_capita.drop(columns = ['Series Code'])\n",
    "gdp_per_capita"
   ]
  },
  {
   "cell_type": "code",
   "execution_count": null,
   "id": "507e8c4d-c2d9-43cd-aaae-c636b1dcdbef",
   "metadata": {
    "scrolled": true
   },
   "outputs": [],
   "source": [
    "usa_gdp = gdp_per_capita.loc[gdp_per_capita['Country Code'] == 'USA'].reset_index(drop=True)\n",
    "usa_gdp"
   ]
  },
  {
   "cell_type": "code",
   "execution_count": null,
   "id": "29555378-dac3-40b1-bc49-75387cab8f69",
   "metadata": {
    "scrolled": true
   },
   "outputs": [],
   "source": [
    "col_list = usa_gdp.columns.to_list()[0:]"
   ]
  },
  {
   "cell_type": "code",
   "execution_count": null,
   "id": "d468a011-9ced-4950-be04-96aea9d0e7fa",
   "metadata": {},
   "outputs": [],
   "source": [
    "usa_gdp = usa_gdp.melt(id_vars= ['Series Name', 'Country Name', 'Country Code'], value_vars = col_list)\n",
    "usa_gdp = usa_gdp.rename(columns = {'variable': 'Year'})\n",
    "usa_gdp"
   ]
  },
  {
   "cell_type": "code",
   "execution_count": null,
   "id": "6737c0d0-ef9c-4da1-a6be-abd4df583f49",
   "metadata": {
    "scrolled": true
   },
   "outputs": [],
   "source": [
    "usa_gdp['Year'] = usa_gdp['Year'].str[:4]\n",
    "usa_gdp"
   ]
  },
  {
   "cell_type": "code",
   "execution_count": null,
   "id": "2c5893e1-ca46-4ced-b896-8395740f6bbb",
   "metadata": {},
   "outputs": [],
   "source": [
    "usa_pop = usa_gdp.loc[usa_gdp['Series Name'] == 'Population, total']\n",
    "usa_pop = usa_pop.drop(columns = ['Series Name']).rename(columns = {'value': 'Population'}).reset_index(drop=True)\n",
    "usa_pop"
   ]
  },
  {
   "cell_type": "code",
   "execution_count": null,
   "id": "216f45f8-549e-4c85-aa7b-51f44c1b7cfb",
   "metadata": {},
   "outputs": [],
   "source": [
    "usa_gdp = usa_gdp.loc[usa_gdp['Series Name'] == 'GDP per capita (current US$)']\n",
    "usa_gdp = usa_gdp.drop(columns= ['Series Name']).rename(columns= {'value': 'GDP Per Capita'})\n",
    "usa_gdp"
   ]
  },
  {
   "cell_type": "code",
   "execution_count": null,
   "id": "3930c688-f971-486e-bd59-73aef222e441",
   "metadata": {},
   "outputs": [],
   "source": [
    "usa_gdp.to_csv('usa_gdp_per_cap.csv', index=False)"
   ]
  },
  {
   "cell_type": "code",
   "execution_count": null,
   "id": "c2e0b7b8-332a-4b84-bb76-28bf3ab16d27",
   "metadata": {
    "scrolled": true
   },
   "outputs": [],
   "source": [
    "noc_regions = pd.read_csv('../data/noc_regions.csv')\n",
    "noc_regions\n",
    "# NOC= Nationaal Olympic Committee 3-Letter Code"
   ]
  },
  {
   "cell_type": "code",
   "execution_count": null,
   "id": "18da6796-06db-4144-9f0b-8f78112f4bb4",
   "metadata": {
    "scrolled": true
   },
   "outputs": [],
   "source": [
    "noc_regions = noc_regions.rename(columns = {'region': 'Country Name', 'notes': 'Region'})\n",
    "noc_regions"
   ]
  },
  {
   "cell_type": "code",
   "execution_count": null,
   "id": "ab51e153-6e3a-416e-829a-932efacf0042",
   "metadata": {
    "scrolled": true
   },
   "outputs": [],
   "source": [
    "ath_events = pd.read_csv('../data/athlete_events.csv')\n",
    "ath_events\n",
    "# Height = cm | Weight = kg"
   ]
  },
  {
   "cell_type": "code",
   "execution_count": null,
   "id": "ac51c19f-4186-4263-a6f7-9e7a6d4f6572",
   "metadata": {
    "scrolled": true
   },
   "outputs": [],
   "source": [
    "ath_events['Birth Year'] = ath_events.Year - ath_events.Age\n",
    "ath_events"
   ]
  },
  {
   "cell_type": "code",
   "execution_count": null,
   "id": "48b4b595-a586-438b-b18e-c789a6a1ee00",
   "metadata": {
    "scrolled": true
   },
   "outputs": [],
   "source": [
    "usa_df = ath_events.loc[(ath_events['NOC'] == 'USA') & (ath_events['Year'] >= 1984)].reset_index(drop=True)\n",
    "usa_df"
   ]
  },
  {
   "cell_type": "code",
   "execution_count": null,
   "id": "c0a94151-7939-49b8-8622-114c6b0040a6",
   "metadata": {},
   "outputs": [],
   "source": [
    "usa_df[['Team', 'Games', 'Sport', 'Event', 'Medal']].drop_duplicates().Medal.value_counts(dropna=False)"
   ]
  },
  {
   "cell_type": "markdown",
   "id": "7f326c5e-bf9d-4057-88d3-d94b749e356f",
   "metadata": {},
   "source": [
    "Who were the top 5 athletes to earn the most medals overall (gold, silver, and bronze)?"
   ]
  },
  {
   "cell_type": "code",
   "execution_count": null,
   "id": "ff2d58aa-4158-4302-a4d3-1cf07f58bd97",
   "metadata": {
    "scrolled": true
   },
   "outputs": [],
   "source": [
    "medalists = usa_df.loc[(usa_df['Medal'] == 'Gold') | (usa_df['Medal'] == 'Silver') | (usa_df['Medal'] == 'Bronze')].reset_index(drop=True)\n",
    "medalists"
   ]
  },
  {
   "cell_type": "code",
   "execution_count": null,
   "id": "276c28b4-c1ac-4cb3-a174-0bc654df5dee",
   "metadata": {},
   "outputs": [],
   "source": [
    "medalists['Name'].value_counts().head()"
   ]
  },
  {
   "cell_type": "code",
   "execution_count": null,
   "id": "b790835e-af4e-4e0a-87ea-62053eec767f",
   "metadata": {
    "scrolled": true
   },
   "outputs": [],
   "source": [
    "top5 = medalists.loc[medalists['Name'].isin(['Michael Fred Phelps, II', 'Jennifer Elisabeth \"Jenny\" Thompson (-Cumpelik)',\n",
    "                    'Dara Grace Torres (-Hoffman, -Minas)', 'Ryan Steven Lochte', 'Natalie Anne Coughlin (-Hall)'])].reset_index(drop=True)\n",
    "top5"
   ]
  },
  {
   "cell_type": "code",
   "execution_count": null,
   "id": "156286e1-6a46-4536-b714-f63e89365477",
   "metadata": {},
   "outputs": [],
   "source": [
    "top5[['Name', 'Medal']].value_counts()"
   ]
  },
  {
   "cell_type": "code",
   "execution_count": null,
   "id": "e741c422-0062-4de7-8b3a-b767146a5a51",
   "metadata": {},
   "outputs": [],
   "source": [
    "data = {'Name': ['Michael Fred Phelps, II', 'Jennifer Elisabeth \"Jenny\" Thompson (-Cumpelik)',\n",
    "                    'Dara Grace Torres (-Hoffman, -Minas)', 'Ryan Steven Lochte', 'Natalie Anne Coughlin (-Hall)'],\n",
    "        'Gold': [23, 8, 4, 6, 3],\n",
    "        'Silver': [3, 3, 4, 3, 4],\n",
    "        'Bronze': [2, 1, 4, 3, 5]}\n",
    "\n",
    "top5_medal_count = pd.DataFrame(data)\n",
    "\n",
    "top5_medal_count"
   ]
  },
  {
   "cell_type": "code",
   "execution_count": null,
   "id": "d07da5fc-e730-4984-8825-734b3369dfe9",
   "metadata": {},
   "outputs": [],
   "source": [
    "top5_medal_count.plot(kind='bar', stacked=True, x='Name', color=['yellow', 'silver', 'brown'])\n",
    "\n",
    "plt.xlabel('Athlete')\n",
    "plt.ylabel('Medal Tally')\n",
    "plt.title('Top 5 Athletes w/ Most Medals')\n",
    "plt.legend(bbox_to_anchor = (1, 0.8), loc = 'upper left')\n",
    "plt.show()"
   ]
  },
  {
   "cell_type": "markdown",
   "id": "934b56c8-a10d-4502-b965-99ec4fb541a0",
   "metadata": {},
   "source": [
    "How have the Olympic Summer and Winter Games evolved over time in terms of events and athlete performance from 1984-2016 for team USA? "
   ]
  },
  {
   "cell_type": "code",
   "execution_count": null,
   "id": "a9f89082-72f9-42c0-9e03-c0f221584729",
   "metadata": {
    "scrolled": true
   },
   "outputs": [],
   "source": [
    "usa_winter = usa_df.loc[usa_df['Season'] == 'Winter']\n",
    "usa_winter = usa_winter.loc[(usa_winter['Medal'] == 'Gold') | (usa_winter['Medal'] == 'Silver') | (usa_winter['Medal'] == 'Bronze')]\n",
    "usa_winter = usa_winter.loc[usa_winter['Year'] >= 1984].reset_index(drop=True)\n",
    "usa_winter"
   ]
  },
  {
   "cell_type": "code",
   "execution_count": null,
   "id": "89177a72-ddf0-40e3-84bd-8d24d1130edc",
   "metadata": {
    "scrolled": true
   },
   "outputs": [],
   "source": [
    "usa_summer = usa_df.loc[usa_df['Season'] == 'Summer']\n",
    "usa_summer = usa_summer.loc[(usa_summer['Medal'] == 'Gold') | (usa_summer['Medal'] == 'Silver') | (usa_summer['Medal'] == 'Bronze')]\n",
    "usa_summer = usa_summer.loc[usa_summer['Year'] >= 1984]\n",
    "usa_summer"
   ]
  },
  {
   "cell_type": "code",
   "execution_count": null,
   "id": "f047bfb9-a4ad-4f9b-8e96-74cf189ea911",
   "metadata": {
    "scrolled": true
   },
   "outputs": [],
   "source": [
    "winter_medals = usa_winter[['Year', 'Medal']].value_counts().to_frame()\n",
    "winter_medals.sort_values(by='Year')"
   ]
  },
  {
   "cell_type": "code",
   "execution_count": null,
   "id": "73b60cdb-b7c9-402b-8cce-5df4dec60b0e",
   "metadata": {
    "scrolled": true
   },
   "outputs": [],
   "source": [
    "data = {'Year': [1984, 1988, 1992, 1994, 1998, 2002, 2006, 2010, 2014],\n",
    "        'Medal Total': [9, 3, 14, 19, 34, 84, 52, 97, 64]}\n",
    "winter_tally = pd.DataFrame(data)\n",
    "winter_tally"
   ]
  },
  {
   "cell_type": "code",
   "execution_count": null,
   "id": "67788786-24a6-49f4-8e54-f439eb2ba01a",
   "metadata": {
    "scrolled": true
   },
   "outputs": [],
   "source": [
    "summer_medals = usa_summer[['Year', 'Medal']].value_counts().to_frame()\n",
    "summer_medals.sort_values(by='Year')"
   ]
  },
  {
   "cell_type": "code",
   "execution_count": null,
   "id": "b63da6bf-481e-4bdd-b6c9-3159f5145bf0",
   "metadata": {},
   "outputs": [],
   "source": [
    "data = {'Year': [1984, 1988, 1992, 1996, 2000, 2004, 2008, 2012, 2016],\n",
    "        'Medal Total': [(186+50+116), (54+87+66), (50+89+85), (159+52+48), (130+51+61), (75+117+71), (80+110+127), (57+145+46), (71+54+139)]}\n",
    "summer_tally = pd.DataFrame(data)\n",
    "summer_tally"
   ]
  },
  {
   "cell_type": "code",
   "execution_count": null,
   "id": "536fa5da-4e9d-42e8-89c6-4f793e785e6d",
   "metadata": {},
   "outputs": [],
   "source": [
    "data = {'Year': [1984, 1988, 1992, '1994|1996', '1998|2000', '2002|2004', '2006|2008', '2010|2012', '2014|2016'],\n",
    "        'Winter': [9, 3, 14, 19, 34, 84, 52, 97, 64],\n",
    "        'Summer': [(186+50+116), (54+87+66), (50+89+85), (159+52+48), (130+51+61), (75+117+71), (80+110+127), (57+145+46), (71+54+139)]}\n",
    "olympic_tally = pd.DataFrame(data)\n",
    "olympic_tally"
   ]
  },
  {
   "cell_type": "code",
   "execution_count": null,
   "id": "a3b3dfd0-45fd-45dd-a9c6-6d547bfb8665",
   "metadata": {},
   "outputs": [],
   "source": [
    "olympic_tally = pd.DataFrame({ \n",
    "        'Winter': [9, 3, 14, 19, 34, 84, 52, 97, 64],\n",
    "        'Summer': [(186+50+116), (54+87+66), (50+89+85), (159+52+48), (130+51+61), (75+117+71), (80+110+127), (57+145+46), (71+54+139)]},\n",
    "                             index=[1984, 1988, 1992, '1994|1996', '1998|2000', '2002|2004', '2006|2008', '2010|2012', '2014|2016'])\n",
    "trend_lines = olympic_tally.plot.line()\n",
    "plt.xlabel('Year')\n",
    "plt.ylabel('Medal Tally')\n",
    "plt.title('Changes Over Time')\n",
    "plt.legend(bbox_to_anchor= (1, 0.8), loc= 'upper left')\n",
    "plt.xticks(rotation =45)\n",
    "plt.show()"
   ]
  },
  {
   "cell_type": "markdown",
   "id": "178f6cf9-5546-4a46-8d0a-f06a0da6d307",
   "metadata": {},
   "source": [
    "Which sport does team USA earn the most medals? Of this sport, what are the top 3 events team USA? "
   ]
  },
  {
   "cell_type": "code",
   "execution_count": null,
   "id": "60303153-75f9-45cf-9006-9be40d459867",
   "metadata": {
    "scrolled": true
   },
   "outputs": [],
   "source": [
    "frames = [usa_winter, usa_summer]\n",
    "olympics = pd.concat(frames).reset_index(drop=True)\n",
    "olympics"
   ]
  },
  {
   "cell_type": "code",
   "execution_count": null,
   "id": "814cee6b-3ae6-4ef9-9ca5-d808c1fd94cb",
   "metadata": {
    "scrolled": true
   },
   "outputs": [],
   "source": [
    "medals_by_sport = olympics[['Sport', 'Medal']]\n",
    "grouped = medals_by_sport.groupby('Sport')\n",
    "sport_medals = grouped['Medal'].value_counts()\n",
    "print(sport_medals)"
   ]
  },
  {
   "cell_type": "code",
   "execution_count": null,
   "id": "836cb999-8099-48b1-b7a4-6b55d0d7f882",
   "metadata": {
    "scrolled": true
   },
   "outputs": [],
   "source": [
    "sport_medals = sport_medals.to_frame().reset_index()"
   ]
  },
  {
   "cell_type": "code",
   "execution_count": null,
   "id": "76708f18-3434-469b-bb08-bac9fb2d108b",
   "metadata": {
    "scrolled": true
   },
   "outputs": [],
   "source": [
    "sport_medals.sort_values(by='count', ascending=False).head(25)"
   ]
  },
  {
   "cell_type": "code",
   "execution_count": null,
   "id": "15dfd522-2f01-4dc6-b431-41ac6dc18c40",
   "metadata": {},
   "outputs": [],
   "source": [
    "sport_medals.loc[(sport_medals['Sport'] == 'Swimming') | (sport_medals['Sport'] == 'Athletics')]"
   ]
  },
  {
   "cell_type": "code",
   "execution_count": null,
   "id": "a04835f4-670b-4bca-abbf-70b935eccf82",
   "metadata": {},
   "outputs": [],
   "source": [
    "data = {'Medal': ['Gold', 'Silver', 'Bronze'], 'value': [343, 136, 83]}\n",
    "\n",
    "sns.barplot(x='Medal', y='value', data=data)\n",
    "\n",
    "plt.title('Top Sport by Medals')\n",
    "plt.xlabel('Medal Type')\n",
    "plt.ylabel('Total Medals')\n",
    "\n",
    "plt.show()"
   ]
  },
  {
   "cell_type": "code",
   "execution_count": null,
   "id": "107a1d71-9e88-4f3d-b29e-7ff455d32c76",
   "metadata": {
    "scrolled": true
   },
   "outputs": [],
   "source": [
    "medals_by_event = olympics.loc[olympics['Sport'] == 'Swimming'][['Event', 'Medal']]\n",
    "grouped2 = medals_by_event.groupby('Event')\n",
    "event_medals = grouped2['Medal'].value_counts().to_frame().reset_index()\n",
    "event_medals.sort_values(by='count', ascending=False).head(25)"
   ]
  },
  {
   "cell_type": "code",
   "execution_count": null,
   "id": "8fbb706a-ea08-4f5f-bede-b7e418b1b535",
   "metadata": {},
   "outputs": [],
   "source": [
    "event_medals.loc[event_medals['Event'] == \"Swimming Men's 4 x 100 metres Medley Relay\"]"
   ]
  },
  {
   "cell_type": "code",
   "execution_count": null,
   "id": "5dfeb405-48b2-4417-8cbe-210ec170ec52",
   "metadata": {},
   "outputs": [],
   "source": [
    "event_medals.loc[event_medals['Event'] == \"Swimming Women's 4 x 100 metres Medley Relay\"].sum()"
   ]
  },
  {
   "cell_type": "code",
   "execution_count": null,
   "id": "7a6124a6-2ae4-4d7a-8a48-16b09d2a65cf",
   "metadata": {},
   "outputs": [],
   "source": [
    "event_medals.loc[event_medals['Event'] == \"Swimming Men's 4 x 200 metres Freestyle Relay\"].sum()"
   ]
  },
  {
   "cell_type": "code",
   "execution_count": null,
   "id": "6d87ea50-9438-4a86-af12-ea0eb4b997f7",
   "metadata": {},
   "outputs": [],
   "source": [
    "event_medals.loc[event_medals['Event'] == \"Swimming Men's 4 x 100 metres Freestyle Relay\"].sum()"
   ]
  },
  {
   "cell_type": "code",
   "execution_count": null,
   "id": "d040b5e1-8794-4317-8229-65d7969cba39",
   "metadata": {},
   "outputs": [],
   "source": [
    "event_medals.loc[event_medals['Event'] == \"Swimming Women's 4 x 200 metres Freestyle Relay\"].sum()"
   ]
  },
  {
   "cell_type": "code",
   "execution_count": null,
   "id": "0af1f467-b009-4a07-8a66-edef0ad8218b",
   "metadata": {},
   "outputs": [],
   "source": [
    "data = [71, 69, 60]\n",
    "keys = [\"Swimming Women's 4 x 100 metres Medley Relay\", \"Swimming Men's 4 x 100 metres Medley Relay\", \"Swimming Men's 4 x 100 metres Freestyle Relay\"]\n",
    "\n",
    "plt.pie(data, labels=keys, colors=['blue', 'yellow', 'orange'], autopct='%.0f%%')\n",
    "plt.show()"
   ]
  },
  {
   "cell_type": "markdown",
   "id": "9e301b96-435a-4466-930b-d63793eababe",
   "metadata": {},
   "source": [
    "Are there any trends during this range of time for team USA’s performance in the Winter and the Summer Games? "
   ]
  },
  {
   "cell_type": "code",
   "execution_count": null,
   "id": "bb1bba84-221e-4b8b-801b-2926570dfa85",
   "metadata": {
    "scrolled": true
   },
   "outputs": [],
   "source": [
    "usa_df['Name'].drop_duplicates()"
   ]
  },
  {
   "cell_type": "markdown",
   "id": "1e3fa11e-e0dd-4aca-8c00-1a2165a398cf",
   "metadata": {},
   "source": [
    "From 1984 – 2016, who were the top 5 performers for the sport where they earned the most medals? What is the life expectancy for the overall top performing athlete and the GDP per capita for the year they earned the most medals?"
   ]
  },
  {
   "cell_type": "code",
   "execution_count": null,
   "id": "5889aa4e-bd8d-4393-9bb6-1bf1efc83124",
   "metadata": {
    "scrolled": true
   },
   "outputs": [],
   "source": [
    "sport_medals = sport_medals.sort_values(by='count', ascending=False).reset_index(drop=True)\n",
    "sport_medals"
   ]
  },
  {
   "cell_type": "code",
   "execution_count": null,
   "id": "c19a6f70-a8b6-42d6-8151-3812698cca59",
   "metadata": {
    "scrolled": true
   },
   "outputs": [],
   "source": [
    "sport_medals.head(25)"
   ]
  },
  {
   "cell_type": "code",
   "execution_count": null,
   "id": "104cbc51-e12c-4cdc-adf0-07608448e19d",
   "metadata": {},
   "outputs": [],
   "source": [
    "sport_medals.loc[sport_medals['Sport'] == 'Swimming']['count'].sum()"
   ]
  },
  {
   "cell_type": "code",
   "execution_count": null,
   "id": "1af77cae-e112-41b6-9885-04d05b363263",
   "metadata": {},
   "outputs": [],
   "source": [
    "sport_medals.loc[sport_medals['Sport'] == 'Athletics']['count'].sum()"
   ]
  },
  {
   "cell_type": "code",
   "execution_count": null,
   "id": "96da057b-b840-45fb-90d1-a2cdb02810a3",
   "metadata": {},
   "outputs": [],
   "source": [
    "sport_medals.loc[sport_medals['Sport'] == 'Basketball']['count'].sum()"
   ]
  },
  {
   "cell_type": "code",
   "execution_count": null,
   "id": "ffe6b56c-1fc8-419b-a44c-453ecbb6a677",
   "metadata": {},
   "outputs": [],
   "source": [
    "data = {'Sport': ['Swimming', 'Athletics', 'Basketball'], 'Total Medals': [562, 369, 215]}\n",
    "custom_palette = [\"#0081C8\", \"#FCB131\", \"#00A651\"]\n",
    "\n",
    "ax = sns.barplot(x='Sport', y='Total Medals', data=data, palette=custom_palette, hue='Sport', legend=False)\n",
    "ax.bar_label(ax.containers[0])\n",
    "ax.bar_label(ax.containers[1])\n",
    "ax.bar_label(ax.containers[2])\n",
    "plt.title('Top Sports by Medals')\n",
    "plt.xlabel('Sport Type')\n",
    "plt.ylabel('Total Medals')\n",
    "plt.savefig('top_sports.png', transparent=True)\n",
    "\n",
    "plt.show()"
   ]
  },
  {
   "cell_type": "code",
   "execution_count": null,
   "id": "c03dd29b-a9a3-4c52-ae0f-d8980d7d6033",
   "metadata": {
    "scrolled": true
   },
   "outputs": [],
   "source": [
    "sport_medals['Sport'].drop_duplicates().reset_index(drop=True)"
   ]
  },
  {
   "cell_type": "code",
   "execution_count": null,
   "id": "63e119e1-3e31-4a7d-a800-6c3e0199fc23",
   "metadata": {
    "scrolled": true
   },
   "outputs": [],
   "source": [
    "top5"
   ]
  },
  {
   "cell_type": "code",
   "execution_count": null,
   "id": "029324f1-21b4-4b20-8e11-67634b511246",
   "metadata": {},
   "outputs": [],
   "source": [
    "top5[['Name', 'Medal']].value_counts()"
   ]
  },
  {
   "cell_type": "code",
   "execution_count": null,
   "id": "8d73200d-b953-43b7-b31c-7cdfd455b663",
   "metadata": {},
   "outputs": [],
   "source": [
    "top5_medal_count"
   ]
  },
  {
   "cell_type": "code",
   "execution_count": null,
   "id": "b6112fb7-0bb9-4261-87e3-8257c81cf8dc",
   "metadata": {},
   "outputs": [],
   "source": [
    "top5_medal_count.plot(kind='bar', stacked=True, x='Name', color=['yellow', 'silver', 'brown'])\n",
    "\n",
    "plt.xlabel('Athlete')\n",
    "plt.ylabel('Medal Tally')\n",
    "plt.title('Top 5 Athletes w/ Most Medals')\n",
    "plt.legend(bbox_to_anchor = (1, 0.8), loc = 'upper left')\n",
    "plt.savefig('top5.png', transparent=True)\n",
    "plt.show()"
   ]
  },
  {
   "cell_type": "code",
   "execution_count": null,
   "id": "2b350ef5-d7ea-444a-88ee-07ec16bc1720",
   "metadata": {
    "scrolled": true
   },
   "outputs": [],
   "source": [
    "ath_events.loc[ath_events['Sport'] == 'Swimming']['Event'].drop_duplicates().reset_index(drop=True)"
   ]
  },
  {
   "cell_type": "code",
   "execution_count": null,
   "id": "fc346278-7020-4dc5-9401-34317e20db6a",
   "metadata": {
    "scrolled": true
   },
   "outputs": [],
   "source": [
    "top5['Event'].value_counts()"
   ]
  },
  {
   "cell_type": "code",
   "execution_count": null,
   "id": "5371ed5f-ca57-42ec-8acd-f601b1bf76d4",
   "metadata": {
    "scrolled": true
   },
   "outputs": [],
   "source": [
    "top5[['Name', 'Year', 'Medal']].value_counts()"
   ]
  },
  {
   "cell_type": "code",
   "execution_count": null,
   "id": "d66d8290-add2-42ec-a584-0672a9a2b317",
   "metadata": {
    "scrolled": true
   },
   "outputs": [],
   "source": [
    "yearly_medals = top5[['Name', 'Year', 'Medal']]\n",
    "grouped3 = yearly_medals.groupby('Name')\n",
    "yearly_medals = grouped3['Year'].value_counts()\n",
    "print(yearly_medals)"
   ]
  },
  {
   "cell_type": "code",
   "execution_count": null,
   "id": "7b290c67-23e6-4842-b601-0e48c9a7003a",
   "metadata": {
    "scrolled": true
   },
   "outputs": [],
   "source": [
    "yearly_medals = yearly_medals.to_frame()\n",
    "yearly_medals = yearly_medals.reset_index()\n",
    "yearly_medals"
   ]
  },
  {
   "cell_type": "code",
   "execution_count": null,
   "id": "699d8902-9065-4210-92bc-36a419f9aec4",
   "metadata": {},
   "outputs": [],
   "source": [
    "yearly_medals['count'].describe()"
   ]
  },
  {
   "cell_type": "code",
   "execution_count": null,
   "id": "12639650-1bb5-4f31-86ab-d11e2772102c",
   "metadata": {},
   "outputs": [],
   "source": [
    "custom_palette2 = sns.color_palette([\"#0081C8\", \"#FCB131\", \"#00A651\", \"#EE334E\", \"#000000\"])\n",
    "\n",
    "sns.lineplot(data=yearly_medals, x='Year', y='count', hue='Name', style='Name', palette=custom_palette2, markers=True)\n",
    "plt.title('Top Athletes Medals by Year')\n",
    "plt.ylabel('Medal Count')\n",
    "plt.legend(bbox_to_anchor= (1,0.8), loc= 'upper left')\n",
    "plt.savefig('medals_by_year.png', transparent=True, bbox_inches='tight')\n",
    "plt.show()"
   ]
  },
  {
   "cell_type": "code",
   "execution_count": null,
   "id": "5ed51b04-3000-45af-b95a-01a73ebe1ec3",
   "metadata": {},
   "outputs": [],
   "source": [
    "trend_lines = olympic_tally.plot.line()\n",
    "plt.xlabel('Year')\n",
    "plt.ylabel('Medal Tally')\n",
    "plt.title('Changes Over Time')\n",
    "plt.legend(bbox_to_anchor= (1, 0.8), loc= 'upper left')\n",
    "plt.xticks(rotation =45)\n",
    "plt.show()"
   ]
  },
  {
   "cell_type": "code",
   "execution_count": null,
   "id": "a4f83991-1792-42e4-ba00-66e13717101d",
   "metadata": {
    "scrolled": true
   },
   "outputs": [],
   "source": [
    "top5_birth_yr = top5[['Name', 'Year', 'Birth Year']].drop_duplicates().reset_index(drop=True)\n",
    "top5_birth_yr"
   ]
  },
  {
   "cell_type": "code",
   "execution_count": null,
   "id": "b1557a78-7926-486f-b515-18f524ff3497",
   "metadata": {
    "scrolled": true
   },
   "outputs": [],
   "source": [
    "data = {'Name': ['Natalie Anne Coughlin (-Hall)', 'Natalie Anne Coughlin (-Hall)', 'Natalie Anne Coughlin (-Hall)', 'Ryan Steven Lochte', \n",
    "                 'Ryan Steven Lochte', 'Ryan Steven Lochte', 'Ryan Steven Lochte', 'Michael Fred Phelps, II', 'Michael Fred Phelps, II', \n",
    "                 'Michael Fred Phelps, II', 'Michael Fred Phelps, II', 'Jennifer Elisabeth \"Jenny\" Thompson (-Cumpelik)', \n",
    "                 'Jennifer Elisabeth \"Jenny\" Thompson (-Cumpelik)', 'Jennifer Elisabeth \"Jenny\" Thompson (-Cumpelik)', \n",
    "                 'Jennifer Elisabeth \"Jenny\" Thompson (-Cumpelik)', 'Dara Grace Torres (-Hoffman, -Minas)', 'Dara Grace Torres (-Hoffman, -Minas)', \n",
    "                 'Dara Grace Torres (-Hoffman, -Minas)', 'Dara Grace Torres (-Hoffman, -Minas)', 'Dara Grace Torres (-Hoffman, -Minas)'],\n",
    "        'Year': [2004, 2008, 2012, 2004, 2008, 2012, 2016, 2004, 2008, 2012, 2016, 1992, 1996, 2000, 2004, 1984, 1988, 1992, 2000, 2008],\n",
    "        'Birth Year': [1983.0, 1983.0, 1983.0, 1984.0, 1984.0, 1984.0, 1984.0, 1985.0, 1985.0, 1985.0, 1985.0, 1973.0, 1973.0, 1973.0, \n",
    "                       1973.0, 1967.0, 1967.0, 1967.0, 1967.0, 1967.0]}\n",
    "top5_birth_yr = pd.DataFrame(data)\n",
    "top5_birth_yr"
   ]
  },
  {
   "cell_type": "code",
   "execution_count": null,
   "id": "66276e9b-0847-4af4-b858-27c4b6d16690",
   "metadata": {
    "scrolled": true
   },
   "outputs": [],
   "source": [
    "olympic_yr = yearly_medals.rename(columns= {'count': 'Medal Total'})\n",
    "olympic_yr"
   ]
  },
  {
   "cell_type": "code",
   "execution_count": null,
   "id": "36f4be1f-056e-468f-aa6d-261f07da3706",
   "metadata": {
    "scrolled": true
   },
   "outputs": [],
   "source": [
    "merged_df = pd.merge(top5_birth_yr, olympic_yr, on=['Name', 'Year'], how='inner')\n",
    "merged_df"
   ]
  },
  {
   "cell_type": "code",
   "execution_count": null,
   "id": "b0eba4bf-cd83-427a-9b6a-4f19a830b193",
   "metadata": {},
   "outputs": [],
   "source": [
    "merged_df.to_csv('merged_df.csv', index=False)"
   ]
  },
  {
   "cell_type": "code",
   "execution_count": null,
   "id": "50dd832c-d69f-4f78-bcc3-d5bb115c2767",
   "metadata": {},
   "outputs": [],
   "source": [
    "data = {'Name': ['Michael Fred Phelps, II', 'Dara Grace Torres (-Hoffman, -Minas)', 'Jennifer Elisabeth \"Jenny\" Thompson (-Cumpelik)', \n",
    "                 'Natalie Anne Coughlin (-Hall)', 'Ryan Steven Lochte'],\n",
    "        'Year': [2008, 2000, 2000, 2008, 2012],\n",
    "        'Gold': [8, 2, 3, 1, 2],\n",
    "        'Silver': [0, 0, 0, 2, 2],\n",
    "        'Bronze': [0, 3, 1, 3, 1]}\n",
    "\n",
    "best_yr = pd.DataFrame(data)\n",
    "best_yr"
   ]
  },
  {
   "cell_type": "code",
   "execution_count": null,
   "id": "7e8005e7-adcb-45b9-a67b-22054a57273f",
   "metadata": {},
   "outputs": [],
   "source": [
    "best_yr.to_csv('best_yr.csv', index=False)"
   ]
  },
  {
   "cell_type": "code",
   "execution_count": null,
   "id": "668f6811-e805-4b8e-8547-699c73f8fc92",
   "metadata": {},
   "outputs": [],
   "source": [
    "data = {'Name': ['Michael Fred Phelps, II', 'Dara Grace Torres (-Hoffman, -Minas)', 'Jennifer Elisabeth \"Jenny\" Thompson (-Cumpelik)', \n",
    "                 'Natalie Anne Coughlin (-Hall)', 'Ryan Steven Lochte'],\n",
    "        'Birth Year': [1985, 1967, 1973, 1983, 1984]}\n",
    "\n",
    "birth_yr = pd.DataFrame(data)\n",
    "birth_yr"
   ]
  },
  {
   "cell_type": "code",
   "execution_count": null,
   "id": "82129604-1c7c-4d93-81c4-b3a12f5748d9",
   "metadata": {},
   "outputs": [],
   "source": [
    "birth_yr = birth_yr.rename(columns = {'Birth Year': 'Year'})\n",
    "birth_yr"
   ]
  },
  {
   "cell_type": "code",
   "execution_count": null,
   "id": "09ff0bdb-9ef0-447d-894c-c969f7954bcc",
   "metadata": {},
   "outputs": [],
   "source": [
    "birth_yr.to_csv('birth_yr.csv', index=False)"
   ]
  },
  {
   "cell_type": "code",
   "execution_count": null,
   "id": "c09e6ae3-a959-4039-97f2-83542daa6665",
   "metadata": {},
   "outputs": [],
   "source": [
    "top5_le = usa_life_exp.loc[(usa_life_exp['Year'] == 1967) | (usa_life_exp['Year'] == 1973)| (usa_life_exp['Year'] == 1983) |\n",
    "                    (usa_life_exp['Year'] == 1984) | (usa_life_exp['Year'] == 1985)]"
   ]
  },
  {
   "cell_type": "code",
   "execution_count": null,
   "id": "4e55b45b-a4fb-4c14-9fde-df84aad72293",
   "metadata": {},
   "outputs": [],
   "source": [
    "top5_le = top5_le.drop(columns = ['Country Name', 'Country Code'])\n",
    "top5_le"
   ]
  },
  {
   "cell_type": "code",
   "execution_count": null,
   "id": "f385834d-f4ae-428c-a27e-1a31e1d1527b",
   "metadata": {},
   "outputs": [],
   "source": [
    "life_exp_merge = pd.merge(birth_yr, top5_le, on = ['Year'], how='inner')\n",
    "life_exp_merge"
   ]
  },
  {
   "cell_type": "code",
   "execution_count": null,
   "id": "34777f5d-2c8c-40f3-a019-3179d6badc29",
   "metadata": {},
   "outputs": [],
   "source": [
    "life_exp_merge.info()"
   ]
  },
  {
   "cell_type": "code",
   "execution_count": null,
   "id": "92c910de-690f-4aaa-922c-152747cd2c5b",
   "metadata": {},
   "outputs": [],
   "source": [
    "data = {'Name': ['Michael Fred Phelps, II', 'Dara Grace Torres (-Hoffman, -Minas)', 'Jennifer Elisabeth \"Jenny\" Thompson (-Cumpelik)', \n",
    "                 'Natalie Anne Coughlin (-Hall)', 'Ryan Steven Lochte'],\n",
    "        'Year': [1985, 1967, 1973, 1983, 1984],\n",
    "       'Life Expectancy': [75, 71, 71, 75, 75]}\n",
    "\n",
    "data = pd.DataFrame(data)\n",
    "\n",
    "fig, ax = plt.subplots()\n",
    "\n",
    "custom_palette3 = sns.color_palette([\"#0081C8\", \"#FCB131\", \"#00A651\", \"#EE334E\", \"#000000\"])\n",
    "\n",
    "sns.scatterplot(data=data, x='Year', y='Life Expectancy', hue='Name', style='Name', palette=custom_palette3, markers=True, ax = ax)\n",
    "ax.set_xlim(1966, 1986)\n",
    "ax.set_ylim(0, 80)\n",
    "plt.title('Top 5 Life Expectancy')\n",
    "plt.xlabel('Year')\n",
    "plt.ylabel('Life Expectancy')\n",
    "\n",
    "plt.legend(bbox_to_anchor= (1, 0.8), loc = 'upper left')\n",
    "plt.savefig('top5_life_exp.png', transparent = True, bbox_inches='tight')\n",
    "plt.show()"
   ]
  },
  {
   "cell_type": "code",
   "execution_count": null,
   "id": "6ca1f977-7d06-4dac-8d59-782e93f872f2",
   "metadata": {},
   "outputs": [],
   "source": [
    "life_exp_merge.describe()"
   ]
  },
  {
   "cell_type": "code",
   "execution_count": null,
   "id": "5c33f8b6-2dee-43b0-8dd9-2cebbbc0ed52",
   "metadata": {},
   "outputs": [],
   "source": [
    "data = {'Name': ['Michael Fred Phelps, II', 'Dara Grace Torres (-Hoffman, -Minas)', 'Jennifer Elisabeth \"Jenny\" Thompson (-Cumpelik)', \n",
    "                 'Natalie Anne Coughlin (-Hall)', 'Ryan Steven Lochte'],\n",
    "        'Year': [1985, 1967, 1973, 1983, 1984],\n",
    "       'Life Expectancy': [75, 71, 71, 75, 75]}\n",
    "\n",
    "data = pd.DataFrame(data)"
   ]
  },
  {
   "cell_type": "code",
   "execution_count": null,
   "id": "9965ae9d-05c9-4bb7-90ec-602887366e4b",
   "metadata": {},
   "outputs": [],
   "source": [
    "data.describe()"
   ]
  },
  {
   "cell_type": "code",
   "execution_count": null,
   "id": "69f732dc-e929-4f06-a3b8-79780f5f2457",
   "metadata": {
    "scrolled": true
   },
   "outputs": [],
   "source": [
    "all_medalists = ath_events.loc[(ath_events['Medal'] == 'Gold') | (ath_events['Medal'] == 'Silver') | (ath_events['Medal'] == 'Bronze')]\n",
    "all_medalists = all_medalists.loc[all_medalists['Year'] >= 1984].reset_index(drop=True)\n",
    "all_medalists"
   ]
  },
  {
   "cell_type": "code",
   "execution_count": null,
   "id": "d157a514-c188-4363-a1b9-5f2154d5ee8a",
   "metadata": {
    "scrolled": true
   },
   "outputs": [],
   "source": [
    "summer_medalists = all_medalists.loc[all_medalists['Season'] == 'Summer'].reset_index(drop=True)\n",
    "summer_medalists"
   ]
  },
  {
   "cell_type": "code",
   "execution_count": null,
   "id": "b7e79a13-9bb3-4847-b18b-1dd5487e525d",
   "metadata": {},
   "outputs": [],
   "source": []
  }
 ],
 "metadata": {
  "kernelspec": {
   "display_name": "Python 3 (ipykernel)",
   "language": "python",
   "name": "python3"
  },
  "language_info": {
   "codemirror_mode": {
    "name": "ipython",
    "version": 3
   },
   "file_extension": ".py",
   "mimetype": "text/x-python",
   "name": "python",
   "nbconvert_exporter": "python",
   "pygments_lexer": "ipython3",
   "version": "3.12.4"
  }
 },
 "nbformat": 4,
 "nbformat_minor": 5
}
