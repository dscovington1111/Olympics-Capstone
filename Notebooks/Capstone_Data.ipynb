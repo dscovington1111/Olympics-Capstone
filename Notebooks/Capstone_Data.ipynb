{
 "cells": [
  {
   "cell_type": "code",
   "execution_count": null,
   "id": "271077bb-df61-462b-919e-bfc5e193ae92",
   "metadata": {},
   "outputs": [],
   "source": [
    "import pandas as pd\n",
    "import numpy as np\n",
    "import re \n",
    "import matplotlib.pyplot as plt\n",
    "import seaborn as sns"
   ]
  },
  {
   "cell_type": "code",
   "execution_count": null,
   "id": "2473f125-0cf0-418d-a7f6-86d1011fd25d",
   "metadata": {
    "scrolled": true
   },
   "outputs": [],
   "source": [
    "life_exp = pd.read_csv('../data/life-expectancy.csv')\n",
    "life_exp"
   ]
  },
  {
   "cell_type": "code",
   "execution_count": null,
   "id": "10b3f61f-4ef0-4147-adc0-e5b2feb55c43",
   "metadata": {
    "scrolled": true
   },
   "outputs": [],
   "source": [
    "life_exp = life_exp.rename(columns= {\n",
    "    \"Entity\": \"Country Name\", \n",
    "    \"Code\": \"Country Code\", \n",
    "    \"Period life expectancy at birth - Sex: total - Age: 0\": \"Life Expectancy\",\n",
    "    \"Year\": \"Birth Year\"})\n",
    "life_exp['Life Expectancy'] = life_exp['Life Expectancy'].round(0).astype('int')"
   ]
  },
  {
   "cell_type": "code",
   "execution_count": null,
   "id": "43c2606d-55d4-47b2-afa9-69e8772852af",
   "metadata": {
    "scrolled": true
   },
   "outputs": [],
   "source": [
    "gdp_per_capita = pd.read_csv('../data/gdp_per_cap_Data.csv')\n",
    "gdp_per_capita = gdp_per_capita.drop(columns = ['Series Code'])\n",
    "gdp_per_capita"
   ]
  },
  {
   "cell_type": "code",
   "execution_count": null,
   "id": "0e9e311a-dfe0-438d-aac1-3db5c9a1dbe8",
   "metadata": {
    "scrolled": true
   },
   "outputs": [],
   "source": [
    "col_list = gdp_per_capita.columns.to_list()[0:]\n",
    "col_list"
   ]
  },
  {
   "cell_type": "code",
   "execution_count": null,
   "id": "bd38b82c-c287-4d67-bed7-5dd64f711b06",
   "metadata": {
    "scrolled": true
   },
   "outputs": [],
   "source": [
    "gdp_per_capita = gdp_per_capita.melt(id_vars= ['Series Name', 'Country Name', 'Country Code'], value_vars = col_list)\n",
    "gdp_per_capita"
   ]
  },
  {
   "cell_type": "code",
   "execution_count": null,
   "id": "397df560-725d-468d-b7b9-f754719ee2f6",
   "metadata": {
    "scrolled": true
   },
   "outputs": [],
   "source": [
    "gdp_per_capita = gdp_per_capita.rename(columns = {'variable': 'Year', 'value': 'GDP per Capita'})\n",
    "gdp_per_capita"
   ]
  },
  {
   "cell_type": "code",
   "execution_count": null,
   "id": "e60603f5-dc86-42b0-b9fe-65a7b6f78caf",
   "metadata": {
    "scrolled": true
   },
   "outputs": [],
   "source": [
    "gdp_per_capita['Year'] = gdp_per_capita['Year'].str[:4]\n",
    "gdp_per_capita"
   ]
  },
  {
   "cell_type": "code",
   "execution_count": null,
   "id": "02d334de-0e87-46cc-9a9c-acef22ca3ef7",
   "metadata": {},
   "outputs": [],
   "source": [
    "gdp_per_capita = gdp_per_capita.loc[gdp_per_capita['Series Name'] == 'GDP per capita (current US$)'].reset_index(drop=True)\n",
    "gdp_per_capita = gdp_per_capita.drop(columns= ['Series Name'])\n",
    "gdp_per_capita"
   ]
  },
  {
   "cell_type": "code",
   "execution_count": null,
   "id": "7a815f8f-4e40-4c15-ad29-7256f47b055e",
   "metadata": {
    "scrolled": true
   },
   "outputs": [],
   "source": [
    "noc_regions = pd.read_csv('../data/noc_regions.csv')\n",
    "noc_regions\n",
    "# NOC= Nationaal Olympic Committee 3-Letter Code"
   ]
  },
  {
   "cell_type": "code",
   "execution_count": null,
   "id": "f84217c6-5cb1-4bf4-935b-12a287f8ed36",
   "metadata": {
    "scrolled": true
   },
   "outputs": [],
   "source": [
    "noc_regions = noc_regions.rename(columns = {'region': 'Country Name', 'notes': 'Region'})\n",
    "noc_regions"
   ]
  },
  {
   "cell_type": "code",
   "execution_count": null,
   "id": "6891df82-323c-4311-8448-5f9721992501",
   "metadata": {
    "scrolled": true
   },
   "outputs": [],
   "source": [
    "ath_events = pd.read_csv('../data/athlete_events.csv')\n",
    "ath_events"
   ]
  },
  {
   "cell_type": "code",
   "execution_count": null,
   "id": "c479edce-d936-4761-956b-99b147b51bee",
   "metadata": {
    "scrolled": true
   },
   "outputs": [],
   "source": [
    "ath_events['Birth Year'] = ath_events.Year - ath_events.Age\n",
    "ath_events = ath_events.loc[ath_events.Year >= 1984]\n",
    "ath_events"
   ]
  },
  {
   "cell_type": "code",
   "execution_count": null,
   "id": "4e8b3203-8897-43e4-b5af-51d9e97ac25f",
   "metadata": {
    "scrolled": true
   },
   "outputs": [],
   "source": [
    "gold_medalists = ath_events.loc[ath_events['Medal'] == 'Gold']\n",
    "\n",
    "gold_medalists = gold_medalists.reset_index(drop=True)\n",
    "\n",
    "gold_medalists"
   ]
  },
  {
   "cell_type": "code",
   "execution_count": null,
   "id": "077a75ba-f1e0-434d-8b9a-b7f2a802ecd6",
   "metadata": {
    "scrolled": true
   },
   "outputs": [],
   "source": [
    "silver_medalists = ath_events.loc[ath_events['Medal'] == 'Silver']\n",
    "\n",
    "silver_medalists = silver_medalists.reset_index(drop=True)\n",
    "\n",
    "silver_medalists"
   ]
  },
  {
   "cell_type": "code",
   "execution_count": null,
   "id": "9f26f92b-6f76-4b9c-bd9c-b9c2a4f92817",
   "metadata": {
    "scrolled": true
   },
   "outputs": [],
   "source": [
    "bronze_medalists = ath_events.loc[ath_events['Medal'] == 'Bronze']\n",
    "\n",
    "bronze_medalists = bronze_medalists.reset_index(drop=True)\n",
    "\n",
    "bronze_medalists"
   ]
  },
  {
   "cell_type": "code",
   "execution_count": null,
   "id": "83e1e65d-55e3-4df1-8211-922e7d7d33c9",
   "metadata": {
    "scrolled": true
   },
   "outputs": [],
   "source": [
    "ath_events['Name'].value_counts()"
   ]
  },
  {
   "cell_type": "code",
   "execution_count": null,
   "id": "b11a2c1f-9b0c-4e8d-a12c-d89d7ab5c097",
   "metadata": {},
   "outputs": [],
   "source": [
    "ath_events['Medal'].value_counts()"
   ]
  },
  {
   "cell_type": "code",
   "execution_count": null,
   "id": "c1683ae1-a3af-4a25-aa3e-1cfe5efd6c74",
   "metadata": {
    "scrolled": true
   },
   "outputs": [],
   "source": [
    "ath_events['Sport'].value_counts()"
   ]
  },
  {
   "cell_type": "code",
   "execution_count": null,
   "id": "a989b7ae-c9a1-41a3-a688-17cf83e81d7a",
   "metadata": {
    "scrolled": true
   },
   "outputs": [],
   "source": [
    "ath_events['Event'].value_counts()"
   ]
  },
  {
   "cell_type": "code",
   "execution_count": null,
   "id": "2a6765fb-7dff-46ab-af0c-eeb660f2fef8",
   "metadata": {
    "scrolled": true
   },
   "outputs": [],
   "source": [
    "frames = [gold_medalists, silver_medalists, bronze_medalists]\n",
    "\n",
    "medalists = pd.concat(frames)\n",
    "\n",
    "medalists.reset_index(drop=True)\n",
    "\n",
    "medalists = medalists.loc[medalists['Season'] == 'Summer'].reset_index(drop=True)\n",
    "\n",
    "medalists"
   ]
  },
  {
   "cell_type": "code",
   "execution_count": null,
   "id": "12c5c4d4-879c-4a7e-b9d1-3464a12be242",
   "metadata": {},
   "outputs": [],
   "source": [
    "medalists.Name.value_counts().head(7)"
   ]
  },
  {
   "cell_type": "code",
   "execution_count": null,
   "id": "aa911caf-89ef-4d63-abe6-1efa870f4ec2",
   "metadata": {
    "scrolled": true
   },
   "outputs": [],
   "source": [
    "top5_medalists = medalists.loc[medalists['Name'].isin(['Michael Fred Phelps, II', 'Jennifer Elisabeth \"Jenny\" Thompson (-Cumpelik)',\n",
    "                        'Ryan Steven Lochte', 'Dara Grace Torres (-Hoffman, -Minas)',\n",
    "                        'Natalie Anne Coughlin (-Hall)'])]\n",
    "\n",
    "top5_medalists = top5_medalists.reset_index(drop=True)\n",
    "\n",
    "top5_medalists"
   ]
  },
  {
   "cell_type": "code",
   "execution_count": null,
   "id": "f8114a9c-308a-47cd-80a0-5c5eea7f8018",
   "metadata": {},
   "outputs": [],
   "source": [
    "top5_medalists[['Name', 'Medal']].value_counts()"
   ]
  },
  {
   "cell_type": "code",
   "execution_count": null,
   "id": "4eec0b15-1436-4d30-83ef-d597ac4d85ee",
   "metadata": {},
   "outputs": [],
   "source": [
    "top5_medalists['Age'].describe()"
   ]
  },
  {
   "cell_type": "code",
   "execution_count": null,
   "id": "5688ff27-95cf-4bab-8f66-1901bd1515c8",
   "metadata": {},
   "outputs": [],
   "source": [
    "data = {'Name': [\"Michael Phelps II, USA\", \"Jennifer 'Jenny' Thompson, USA\", \"Ryan Lochte, USA\", \n",
    "                 \"Dara Torres, USA\", \"Natalie Coughlin, USA\"],\n",
    "        'Gold': [23, 8, 6,  4, 3],\n",
    "        'Silver': [3, 3, 3, 4, 4],\n",
    "        'Bronze': [2, 1, 3, 4, 5]}\n",
    "\n",
    "top5_medals_count = pd.DataFrame(data)\n",
    "\n",
    "top5_medals_count"
   ]
  },
  {
   "cell_type": "code",
   "execution_count": null,
   "id": "141ea3ed-fc78-4add-8e1a-29ac7630759f",
   "metadata": {},
   "outputs": [],
   "source": [
    "top5_medals_count.plot(kind='bar', stacked=True, x='Name', color=['yellow', 'silver', 'brown'])\n",
    "\n",
    "plt.xlabel('Athlete')\n",
    "plt.ylabel('Medal Tally')\n",
    "plt.title('Top 5 Athletes w/ Most Medals')\n",
    "plt.legend(bbox_to_anchor = (1, 0.8), loc = 'upper left')\n",
    "plt.xticks(rotation = 45)\n",
    "plt.savefig('top5_overall.png', transparent=True, bbox_inches='tight')\n",
    "plt.show()"
   ]
  },
  {
   "cell_type": "code",
   "execution_count": null,
   "id": "6febeca4-9936-4c2e-b515-d2f135f2258d",
   "metadata": {
    "scrolled": true
   },
   "outputs": [],
   "source": [
    "country_medals = medalists[['Team', 'Medal']].value_counts()\n",
    "country_medals = country_medals.to_frame().reset_index()\n",
    "country_medals.head(15)"
   ]
  },
  {
   "cell_type": "code",
   "execution_count": null,
   "id": "8442f52c-c14b-41aa-af15-903a6ea633ba",
   "metadata": {
    "scrolled": true
   },
   "outputs": [],
   "source": [
    "top_sport = medalists[['Sport', 'Medal']]\n",
    "grouped = top_sport.groupby('Sport')\n",
    "top_sport = grouped['Medal'].value_counts()\n",
    "top_sport = top_sport.to_frame().reset_index()\n",
    "top_sport"
   ]
  },
  {
   "cell_type": "code",
   "execution_count": null,
   "id": "d72a69e3-5434-4e3a-9462-d8a093c523dc",
   "metadata": {
    "scrolled": true
   },
   "outputs": [],
   "source": [
    "top_sport.sort_values(by='count', ascending=False).head(16)"
   ]
  },
  {
   "cell_type": "code",
   "execution_count": null,
   "id": "b7ef0e20-67d9-4e7d-8c14-eb32c3f39030",
   "metadata": {},
   "outputs": [],
   "source": [
    "data = {'Sport': ['Athletics', 'Swimming', 'Rowing', 'Hockey', 'Handball'],\n",
    "        'Medals': [(554 + 549 + 538), (583 + 532 + 510), (447 + 451 + 450),\n",
    "                  (290 + 288 + 289), (258 + 264 + 265)]}\n",
    "\n",
    "custom_palette = sns.color_palette([\"#0081C8\", \"#FCB131\", \"#00A651\", \"#EE334E\", \"#000000\"])\n",
    "\n",
    "ax = sns.barplot(x='Sport', y='Medals', data=data, palette=custom_palette, hue='Sport', legend=False)\n",
    "ax.bar_label(ax.containers[0])\n",
    "ax.bar_label(ax.containers[1])\n",
    "ax.bar_label(ax.containers[2])\n",
    "ax.bar_label(ax.containers[3])\n",
    "ax.bar_label(ax.containers[4])\n",
    "plt.title('Top Sports')\n",
    "plt.xlabel('Sport Type')\n",
    "plt.ylabel('Total Medals')\n",
    "plt.savefig('top_sports.png', transparent=True)\n",
    "\n",
    "plt.show()"
   ]
  },
  {
   "cell_type": "code",
   "execution_count": null,
   "id": "e4c1e7ef-eaab-4284-aa96-1e2e05de2486",
   "metadata": {
    "scrolled": true
   },
   "outputs": [],
   "source": [
    "country_medals.head(15)"
   ]
  },
  {
   "cell_type": "code",
   "execution_count": null,
   "id": "721b967f-0944-43ff-ab79-3900e51a080f",
   "metadata": {},
   "outputs": [],
   "source": [
    "data = {'Team': ['United States', 'Australia', 'Germany', 'Russia', 'China'],\n",
    "        'Medals': [(1157+631+550), (250+322+385), (324+244+360), (293+271+320), (294+299+238)]}\n",
    "\n",
    "custom_palette = sns.color_palette([\"#0081C8\", \"#FCB131\", \"#00A651\", \"#EE334E\", \"#000000\"])\n",
    "\n",
    "ax = sns.barplot(x='Team', y='Medals', data=data, palette=custom_palette, hue='Team', legend=False)\n",
    "ax.bar_label(ax.containers[0])\n",
    "ax.bar_label(ax.containers[1])\n",
    "ax.bar_label(ax.containers[2])\n",
    "ax.bar_label(ax.containers[3])\n",
    "ax.bar_label(ax.containers[4])\n",
    "plt.title('Top Teams')\n",
    "plt.xlabel('Team')\n",
    "plt.ylabel('Total Medals')\n",
    "plt.savefig('country_medals.png', transparent=True)\n",
    "\n",
    "plt.show()"
   ]
  },
  {
   "cell_type": "code",
   "execution_count": null,
   "id": "531df7c9-7ff4-49e9-b54e-4a08809fc6d5",
   "metadata": {},
   "outputs": [],
   "source": [
    "data = {'Team': ['United States', 'Australia', 'Germany', 'Russia', 'China'],\n",
    "        \n",
    "        'Gold': [1157, 250, 324,  293, 294],\n",
    "        'Silver': [631, 322, 244, 271, 299],\n",
    "        'Bronze': [550, 385, 360, 320, 238]}\n",
    "\n",
    "country_breakdown = pd.DataFrame(data)\n",
    "\n",
    "country_breakdown"
   ]
  },
  {
   "cell_type": "code",
   "execution_count": null,
   "id": "7a3906ac-e085-4ad9-9113-5767fc795835",
   "metadata": {
    "scrolled": true
   },
   "outputs": [],
   "source": [
    "country_breakdown.plot(kind='bar', x='Team', color=['yellow', 'silver', 'brown'])\n",
    "\n",
    "plt.xlabel('Team')\n",
    "plt.ylabel('Medal Total')\n",
    "plt.title('Team Medal Breakdown')\n",
    "plt.legend(bbox_to_anchor = (1, 0.8), loc = 'upper left')\n",
    "plt.savefig('medal_breakdown.png', transparent=True, bbox_inches='tight')\n",
    "plt.show()"
   ]
  },
  {
   "cell_type": "code",
   "execution_count": null,
   "id": "c0ff6dab-f16d-4927-ba4d-c504e2b10dd6",
   "metadata": {},
   "outputs": [],
   "source": [
    "athletics = medalists.loc[medalists['Sport'] == 'Athletics'].reset_index(drop=True)\n",
    "athletics[['Team', 'Medal']].value_counts().head(25)"
   ]
  },
  {
   "cell_type": "code",
   "execution_count": null,
   "id": "1268da1d-70b6-4555-9a8f-a8f3566749d8",
   "metadata": {},
   "outputs": [],
   "source": [
    "data = {'Team': ['United States', 'Jamaica', 'Great Britain', 'Russia', 'Kenya'],\n",
    "        'Gold': [200, 31, 20, 29, 25],\n",
    "        'Silver': [104, 68, 35, 45, 31],\n",
    "        'Bronze': [65, 40, 45, 29, 22]}\n",
    "athletics_breakdown = pd.DataFrame(data)\n",
    "athletics_breakdown"
   ]
  },
  {
   "cell_type": "code",
   "execution_count": null,
   "id": "2b564646-0aa9-452b-8639-5182d5ef7f3a",
   "metadata": {},
   "outputs": [],
   "source": [
    "athletics_breakdown.plot(kind='barh', x='Team', color=['yellow', 'silver', 'brown'])\n",
    "\n",
    "plt.xlabel('Team')\n",
    "plt.ylabel('Medal Total')\n",
    "plt.title('Athletics Medal Breakdown by Top Teams')\n",
    "plt.legend(bbox_to_anchor = (1, 0.8), loc = 'upper left')\n",
    "plt.savefig('athletics_breakdown.png', transparent=True, bbox_inches='tight')\n",
    "plt.show()"
   ]
  },
  {
   "cell_type": "code",
   "execution_count": null,
   "id": "8cd44148-f738-42bb-9270-17b40915586d",
   "metadata": {},
   "outputs": [],
   "source": [
    "athletics_top5 = medalists.loc[medalists['Sport'] == 'Athletics'].reset_index(drop=True)\n",
    "athletics_top5['Name'].value_counts().head()"
   ]
  },
  {
   "cell_type": "code",
   "execution_count": null,
   "id": "d79f9549-91be-4e90-bae4-1de7d70eabab",
   "metadata": {
    "scrolled": true
   },
   "outputs": [],
   "source": [
    "athletics_top5 = athletics_top5.loc[athletics_top5['Name'].isin(['Frederick Carlton \"Carl\" Lewis', 'Allyson Michelle Felix', \n",
    "                                                                 'Usain St. Leo Bolt', 'Veronica Angella Campbell-Brown', \n",
    "                                                                 'Merlene Joyce Ottey-Page'])].reset_index(drop=True)\n",
    "athletics_top5[['Name', 'Medal']].value_counts()"
   ]
  },
  {
   "cell_type": "code",
   "execution_count": null,
   "id": "e79ac613-d1ba-40af-89fe-56c5eb795f2f",
   "metadata": {},
   "outputs": [],
   "source": [
    "data = {'Name': [\"Frederick 'Carl' Lewis, USA\", \"Allyson Felix, USA\", \"Usain Bolt, JAM\", \n",
    "                 \"Veronica Campbell-Brown, JAM\", \"Merlene Ottey-Page, JAM\"],\n",
    "        'Gold': [9, 6, 8, 3, 0],\n",
    "        'Silver': [1, 3, 0, 3, 3],\n",
    "        'Bronze': [0, 0, 0, 2, 5]}\n",
    "athletics5_breakdown = pd.DataFrame(data)\n",
    "athletics5_breakdown"
   ]
  },
  {
   "cell_type": "code",
   "execution_count": null,
   "id": "3d181f09-70f5-4f11-8b79-5466e9fa2a68",
   "metadata": {},
   "outputs": [],
   "source": [
    "athletics5_breakdown.plot(kind='bar', stacked=True, x='Name', color=['yellow', 'silver', 'brown'])\n",
    "\n",
    "plt.xlabel('Athlete')\n",
    "plt.ylabel('Medal Total')\n",
    "plt.title('Athletics Top Performers')\n",
    "plt.legend(bbox_to_anchor = (1, 0.8), loc = 'upper left')\n",
    "plt.xticks(rotation = 45)\n",
    "plt.savefig('athletics_top5.png', transparent=True, bbox_inches='tight')\n",
    "plt.show()"
   ]
  },
  {
   "cell_type": "code",
   "execution_count": null,
   "id": "7fb49af0-7bb1-4cf6-8ca1-cd7f42efa2e5",
   "metadata": {},
   "outputs": [],
   "source": [
    "olympic_games = medalists[['Team', 'Games', 'Medal']]\n",
    "grouped = olympic_games.groupby(['Team', 'Games'])\n",
    "olympic_games = grouped['Medal'].value_counts().reset_index()"
   ]
  },
  {
   "cell_type": "code",
   "execution_count": null,
   "id": "d1d56e3e-cd3f-445f-937b-72ce5dfe9be8",
   "metadata": {
    "scrolled": true
   },
   "outputs": [],
   "source": [
    "olympic5 =olympic_games.loc[olympic_games['Team'].isin(['United States', 'Australia', 'Germany', 'Russia', 'China'])]\n",
    "olympic5.head(60)"
   ]
  },
  {
   "cell_type": "code",
   "execution_count": null,
   "id": "9441d76c-478d-42e4-bf8d-18ef7f4f2b86",
   "metadata": {},
   "outputs": [],
   "source": [
    "medal_trends = pd.DataFrame({\n",
    "    'United States': [(186+116+50), (87+66+54), (87+85+50), (157+52+46), (128+61+51), (115+75+69), (121+110+78), (139+55+44), (137+67+52)],\n",
    "    'Australia': [(7+14+31), (18+6+11), (14+27+16), (32+16+82), (58+69+54), (49+77+31), (31+42+76), (18+37+59), (23+34+25)],\n",
    "    'Germany': [0, 0, (81+57+60), (42+35+45), (31+23+62), (41+43+63), (39+16+41), (43+27+22), (47+43+67)],\n",
    "    'Russia': [0, 0, 0, (36+45+34), (66+67+54), (48+46+95), (43+46+53), (50+39+49), (50+28+35)],\n",
    "    'China': [(24+13+37), (4+16+30), (14+41+15), (13+66+15), (31+19+15), (42+27+13), (72+49+49), (50+38+29), (44+30+35)]},\n",
    "                            index=[1984, 1988, 1992, 1996, 2000, 2004, 2008, 2012, 2016])"
   ]
  },
  {
   "cell_type": "code",
   "execution_count": null,
   "id": "151cbbce-4c00-4dfd-91b7-422c1bab6c76",
   "metadata": {},
   "outputs": [],
   "source": [
    "medal_trends.plot.line()\n",
    "\n",
    "plt.title('Top Teams Medals Over Time')\n",
    "plt.xlabel('Year')\n",
    "plt.ylabel('Medal Count')\n",
    "plt.legend(bbox_to_anchor= (1,0.8), loc= 'upper left')\n",
    "plt.savefig('medals_by_year.png', transparent=True, bbox_inches='tight')\n",
    "plt.show()"
   ]
  },
  {
   "cell_type": "code",
   "execution_count": null,
   "id": "0619423e-a785-42cf-9ff4-11b513429125",
   "metadata": {},
   "outputs": [],
   "source": [
    "medal_trends.describe()"
   ]
  },
  {
   "cell_type": "code",
   "execution_count": null,
   "id": "89e15f18-64fc-4d19-9214-f8ceed12c90f",
   "metadata": {},
   "outputs": [],
   "source": [
    "medalists_gdp = gdp_per_capita.loc[(gdp_per_capita['Year'] == '1984') | (gdp_per_capita['Year'] == '1988') | (gdp_per_capita['Year'] == '1992') |\n",
    "                    (gdp_per_capita['Year'] == '1996') | (gdp_per_capita['Year'] == '2000') | (gdp_per_capita['Year'] == '2004') | \n",
    "                    (gdp_per_capita['Year'] == '2008') | (gdp_per_capita['Year'] == '2012') | (gdp_per_capita['Year'] == '2016')].reset_index(drop=True)\n",
    "medalists_gdp"
   ]
  },
  {
   "cell_type": "code",
   "execution_count": null,
   "id": "8aa8e473-6bb6-4469-a4ce-4d90e9c50974",
   "metadata": {
    "scrolled": true
   },
   "outputs": [],
   "source": [
    "medalists"
   ]
  },
  {
   "cell_type": "code",
   "execution_count": null,
   "id": "f54c779a-39e6-4946-aeba-4462563a84e7",
   "metadata": {},
   "outputs": [],
   "source": [
    "noc_list = noc_regions['NOC'].to_list()"
   ]
  },
  {
   "cell_type": "code",
   "execution_count": null,
   "id": "f0bff49a-51e9-4e95-bf40-66688477b0bc",
   "metadata": {
    "scrolled": true
   },
   "outputs": [],
   "source": [
    "medalist_gdp = medalists_gdp.loc[medalists_gdp['Country Code'].isin(noc_list)]\n",
    "medalist_gdp = medalists_gdp.rename(columns= {'Country Code': 'NOC'})\n",
    "medalist_gdp"
   ]
  },
  {
   "cell_type": "code",
   "execution_count": null,
   "id": "c9897860-1f77-48ed-8a88-7aca8cc8e4c8",
   "metadata": {
    "scrolled": true
   },
   "outputs": [],
   "source": [
    "pd.concat([medalists, medalist_gdp], keys=['NOC'])"
   ]
  },
  {
   "cell_type": "code",
   "execution_count": null,
   "id": "e4f87dba-9d30-4932-8017-eeeba8019de3",
   "metadata": {},
   "outputs": [],
   "source": []
  },
  {
   "cell_type": "code",
   "execution_count": null,
   "id": "523430a1-e357-4e46-adec-d244c1709980",
   "metadata": {
    "scrolled": true
   },
   "outputs": [],
   "source": [
    "athletics_top5"
   ]
  },
  {
   "cell_type": "code",
   "execution_count": null,
   "id": "a7238330-fded-41ae-bf8a-5768022b7abb",
   "metadata": {
    "scrolled": true
   },
   "outputs": [],
   "source": [
    "usa_gender = medalists.loc[medalists['NOC'] == 'USA'].reset_index(drop=True)\n",
    "usa_gender"
   ]
  },
  {
   "cell_type": "code",
   "execution_count": null,
   "id": "eb96b297-0616-4cdc-9ceb-bd2938b1a0c0",
   "metadata": {
    "scrolled": true
   },
   "outputs": [],
   "source": [
    "usa_gender[['Sex', 'Year', 'Medal']].value_counts()"
   ]
  },
  {
   "cell_type": "code",
   "execution_count": null,
   "id": "ee33ed34-e47c-4af4-b9d0-e4ed4963bb19",
   "metadata": {
    "scrolled": true
   },
   "outputs": [],
   "source": [
    "usa_women = usa_gender.loc[usa_gender['Sex'] == 'F'][['Sex', 'Medal', 'Year']]\n",
    "usa_women"
   ]
  },
  {
   "cell_type": "code",
   "execution_count": null,
   "id": "9ddd8382-9f5e-494b-b948-80705859791e",
   "metadata": {
    "scrolled": true
   },
   "outputs": [],
   "source": [
    "usa_men = usa_gender.loc[usa_gender['Sex'] == 'M'][['Sex', 'Medal', 'Year']]\n",
    "usa_men"
   ]
  },
  {
   "cell_type": "code",
   "execution_count": null,
   "id": "503afc60-85d7-4f63-8104-ef82b08646a7",
   "metadata": {
    "scrolled": true
   },
   "outputs": [],
   "source": [
    "usa_women.value_counts()"
   ]
  },
  {
   "cell_type": "code",
   "execution_count": null,
   "id": "88e0bee2-9ad0-4483-8ce2-25bbd1fd6da0",
   "metadata": {
    "scrolled": true
   },
   "outputs": [],
   "source": [
    "usa_men.value_counts()"
   ]
  },
  {
   "cell_type": "code",
   "execution_count": null,
   "id": "54dc8e77-bbc9-439e-b3bf-65c8a7f6be81",
   "metadata": {},
   "outputs": [],
   "source": [
    "performance_trends = pd.DataFrame({\n",
    "    'Women': [(71+45+24), (29+21+17), (32+19+50), (100+16+11), (62+32+30), (65+42+39), (58+81+23), (103+30+27), (85+29+35)],\n",
    "    'Men': [(115+71+26), (58+45+37), (57+31+35), (59+32+41), (68+29+21), (52+33+32), (69+29+57), (42+27+19), (54+25+39)]},\n",
    "                            index=[1984, 1988, 1992, 1996, 2000, 2004, 2008, 2012, 2016])\n",
    "performance_trends"
   ]
  },
  {
   "cell_type": "code",
   "execution_count": null,
   "id": "f8f9c85f-ce8c-45ed-bad9-24b50e6ab4ed",
   "metadata": {},
   "outputs": [],
   "source": [
    "performance_trends.plot.line()\n",
    "\n",
    "plt.title(\"Women's vs Men's Performance by Medal Tally\")\n",
    "plt.xlabel(\"Year\")\n",
    "plt.ylabel(\"Medal Count\")\n",
    "plt.legend(bbox_to_anchor= (1,0.8), loc= 'upper left')\n",
    "plt.savefig('performance_by_year.png', transparent=True, bbox_inches='tight')\n",
    "plt.show()"
   ]
  },
  {
   "cell_type": "code",
   "execution_count": null,
   "id": "90b31671-d1cd-4af0-9cfe-47d344b0117c",
   "metadata": {},
   "outputs": [],
   "source": [
    "performance_trends.describe()"
   ]
  },
  {
   "cell_type": "code",
   "execution_count": null,
   "id": "c31b32b1-9e4b-43ff-abbe-d17858817525",
   "metadata": {},
   "outputs": [],
   "source": [
    "ath_events.loc[ath_events['Season'] == 'Summer']['Event'].drop_duplicates().reset_index(drop=True)"
   ]
  },
  {
   "cell_type": "code",
   "execution_count": null,
   "id": "375bf27e-8e91-425d-a286-78fcb5d4406e",
   "metadata": {},
   "outputs": [],
   "source": [
    "medal_trends = medal_trends.reset_index().rename(columns= {'index': 'Year'})\n",
    "medal_trends"
   ]
  },
  {
   "cell_type": "code",
   "execution_count": null,
   "id": "212f6e3c-03c6-45f1-8c5f-e152110b932a",
   "metadata": {},
   "outputs": [],
   "source": [
    "medal_trends.to_csv('medal_trends.csv', index=False)"
   ]
  },
  {
   "cell_type": "code",
   "execution_count": null,
   "id": "09841d43-9081-4e55-bcf4-88b98ddaabc1",
   "metadata": {
    "scrolled": true
   },
   "outputs": [],
   "source": [
    "usa_ath = medalists.loc[medalists['NOC'] == 'USA'][['Name', 'Year', 'Birth Year']].drop_duplicates().sort_values(['Name', 'Year']).reset_index(drop=True)\n",
    "usa_ath['Birth Year'] = usa_ath['Birth Year'].astype('int')\n",
    "usa_ath"
   ]
  },
  {
   "cell_type": "code",
   "execution_count": null,
   "id": "8eb13221-54ee-45f1-8f9c-e000ca22bc21",
   "metadata": {
    "scrolled": true
   },
   "outputs": [],
   "source": [
    "usa_life_exp = life_exp.loc[life_exp['Country Code'] == 'USA'].reset_index(drop=True)\n",
    "usa_life_exp"
   ]
  },
  {
   "cell_type": "code",
   "execution_count": null,
   "id": "8ce2f61b-275f-4990-949f-f6a2b745d4a8",
   "metadata": {
    "scrolled": true
   },
   "outputs": [],
   "source": [
    "ath_exp = pd.merge(usa_ath, usa_life_exp, how='inner', on=['Birth Year']).drop(columns = ['Country Name', 'Country Code'])\n",
    "ath_exp"
   ]
  },
  {
   "cell_type": "code",
   "execution_count": null,
   "id": "e865195c-12df-4308-9f19-aebd08c0600c",
   "metadata": {
    "scrolled": true
   },
   "outputs": [],
   "source": [
    "ath_exp.to_csv('ath_exp.csv', index=False)"
   ]
  },
  {
   "cell_type": "code",
   "execution_count": null,
   "id": "0796546b-23f7-4070-a20c-45f24f086031",
   "metadata": {
    "scrolled": true
   },
   "outputs": [],
   "source": [
    "medal_trends"
   ]
  },
  {
   "cell_type": "code",
   "execution_count": null,
   "id": "b3fa84cc-de44-44e9-8a8c-488035162664",
   "metadata": {},
   "outputs": [],
   "source": [
    "life_exp = life_exp.replace({'DEU': 'GER'})"
   ]
  },
  {
   "cell_type": "code",
   "execution_count": null,
   "id": "6cc067f6-5162-4a35-a96f-cdf87072b66a",
   "metadata": {
    "scrolled": true
   },
   "outputs": [],
   "source": [
    "top5_life_exp = life_exp.loc[(life_exp['Country Name'] == 'United States') | (life_exp['Country Name'] == 'Australia') | \n",
    "                (life_exp['Country Name'] == 'Germany') | (life_exp['Country Name'] == 'Russia') | (life_exp['Country Name'] == 'China')].reset_index(drop=True)\n",
    "top5_life_exp = top5_life_exp.rename(columns= {'Country Code': 'NOC'})\n",
    "top5_life_exp"
   ]
  },
  {
   "cell_type": "code",
   "execution_count": null,
   "id": "c7c047b2-ee05-488a-a3e7-13f0bf133b90",
   "metadata": {
    "scrolled": true
   },
   "outputs": [],
   "source": [
    "country5_medalists = medalists.loc[(medalists['Team'] == 'United States') | (medalists['Team'] == 'Australia') | (medalists['Team'] == 'Germany') | \n",
    "                (medalists['Team'] == 'Russia') | (medalists['Team'] == 'China')][['Name', 'NOC', 'Year', 'Birth Year']].reset_index(drop=True)\n",
    "country5_medalists['Birth Year'] = country5_medalists['Birth Year'].astype('int')\n",
    "country5_medalists"
   ]
  },
  {
   "cell_type": "code",
   "execution_count": null,
   "id": "07575089-7d26-4d51-9747-64d98e8ddc16",
   "metadata": {},
   "outputs": [],
   "source": [
    "country5_exp = pd.merge(country5_medalists, top5_life_exp, how='inner', on=['NOC', 'Birth Year']).drop(columns= \n",
    "                                                                                 ['Country Name'])\n",
    "country5_exp"
   ]
  },
  {
   "cell_type": "code",
   "execution_count": null,
   "id": "3ef6e3b9-4ed2-42c0-8ed9-8437d9d59445",
   "metadata": {},
   "outputs": [],
   "source": [
    "usa_exp = country5_exp.loc[country5_exp['NOC'] == 'USA'][['Year', 'Life Expectancy']].value_counts().to_frame().sort_values('Year', ascending=True).reset_index()\n",
    "usa_exp "
   ]
  },
  {
   "cell_type": "code",
   "execution_count": null,
   "id": "3ee58e12-16fc-4f73-a14c-6213d62cc854",
   "metadata": {},
   "outputs": [],
   "source": [
    "country5_exp.to_csv('country5_exp.csv', index=False)"
   ]
  },
  {
   "cell_type": "code",
   "execution_count": null,
   "id": "cfab8ba8-d71a-4a43-a6b7-3d55012261e8",
   "metadata": {
    "scrolled": true
   },
   "outputs": [],
   "source": [
    "country5_exp"
   ]
  },
  {
   "cell_type": "code",
   "execution_count": null,
   "id": "8fa3a7f7-308d-4e81-8234-cca18c807c84",
   "metadata": {
    "scrolled": true
   },
   "outputs": [],
   "source": [
    "life_exp5 = country5_exp[['NOC', 'Year', 'Birth Year', 'Life Expectancy']]\n",
    "grouped5 = life_exp5.groupby(['NOC', 'Year'])\n",
    "life_exp5 = grouped5['Life Expectancy'].value_counts()\n",
    "life_exp5 = life_exp5.to_frame().reset_index()\n",
    "aus_exp = life_exp5.loc[life_exp5['NOC'] == 'AUS'][['Year', 'Life Expectancy', 'count']]\n",
    "aus_exp"
   ]
  },
  {
   "cell_type": "code",
   "execution_count": null,
   "id": "3cba5eb6-5ff2-49c1-8676-c555e1e91b29",
   "metadata": {
    "scrolled": true
   },
   "outputs": [],
   "source": [
    "chn_exp = life_exp5.loc[life_exp5['NOC'] == 'CHN'][['Year', 'Life Expectancy', 'count']]\n",
    "chn_exp.head(60)"
   ]
  },
  {
   "cell_type": "code",
   "execution_count": null,
   "id": "157de09b-e218-447e-9e8b-c2dadf0f648d",
   "metadata": {
    "scrolled": true
   },
   "outputs": [],
   "source": [
    "rus_exp = life_exp5.loc[life_exp5['NOC'] == 'RUS'][['Year', 'Life Expectancy', 'count']]\n",
    "rus_exp"
   ]
  },
  {
   "cell_type": "code",
   "execution_count": null,
   "id": "58f1b5ec-6369-4f9c-833b-e7602b21c5de",
   "metadata": {
    "scrolled": true
   },
   "outputs": [],
   "source": [
    "usa_exp = life_exp5.loc[life_exp5['NOC'] == 'USA'][['Year', 'Life Expectancy', 'count']]\n",
    "usa_exp.head(60)"
   ]
  },
  {
   "cell_type": "code",
   "execution_count": null,
   "id": "f131cbd9-0049-4bc5-ad32-efc748769a07",
   "metadata": {
    "scrolled": true
   },
   "outputs": [],
   "source": [
    "ger_exp = life_exp5.loc[life_exp5['NOC'] == 'GER'][['Year', 'Life Expectancy', 'count']]\n",
    "ger_exp"
   ]
  },
  {
   "cell_type": "code",
   "execution_count": null,
   "id": "caac0cd0-87d5-4cc7-ba60-deba3723cbf1",
   "metadata": {},
   "outputs": [],
   "source": [
    "top5_life_exp = pd.DataFrame({\n",
    "    'United States': [(70), (70), (70), (71), (72), (73), (74), (75), (75)],\n",
    "    'Australia': [(71), (71), (71), (72), (72), (74), (75), (76), (77)],\n",
    "    'Germany': [0, 0, (72), (71), (72), (72), (73), (74), (75)],\n",
    "    'Russia': [0, 0, 0, (68), (68), (68), (68), (68), (67)],\n",
    "    'China': [(49), (53), (57), (58), (62), (64), (66), (68), (69)]},\n",
    "                            index=[1984, 1988, 1992, 1996, 2000, 2004, 2008, 2012, 2016]).reset_index().rename(columns= {'index': 'Year'})\n",
    "top5_life_exp"
   ]
  },
  {
   "cell_type": "code",
   "execution_count": null,
   "id": "6c858849-4210-414d-8cc3-8d187b4b58bf",
   "metadata": {
    "scrolled": true
   },
   "outputs": [],
   "source": [
    "medal_trends"
   ]
  },
  {
   "cell_type": "code",
   "execution_count": null,
   "id": "461e4935-d78d-4968-8228-e0df7acc6caa",
   "metadata": {},
   "outputs": [],
   "source": [
    "top5_life_exp"
   ]
  },
  {
   "cell_type": "code",
   "execution_count": null,
   "id": "d8a61c66-480a-44e4-acf9-d4b3a92c7110",
   "metadata": {
    "scrolled": true
   },
   "outputs": [],
   "source": [
    "data = {'Country': ['United States', 'United States', 'United States', 'United States', 'United States', 'United States', \n",
    "                    'United States', 'United States', 'United States', 'Australia', 'Australia', 'Australia', 'Australia', 'Australia', 'Australia', \n",
    "                    'Australia', 'Australia', 'Australia', 'Russia', 'Russia', 'Russia', 'Russia', 'Russia', 'Russia', 'Russia', 'Russia', 'Russia', \n",
    "                    'Germany', 'Germany', 'Germany', 'Germany', 'Germany', 'Germany', 'Germany', 'Germany', 'Germany', 'China', 'China', 'China', \n",
    "                    'China', 'China', 'China', 'China', 'China', 'China'],\n",
    "        'Year': [1984, 1988, 1992, 1996, 2000, 2004, 2008, 2012, 2016, 1984, 1988, 1992, 1996, 2000, 2004, 2008, 2012, 2016, 1984, 1988, 1992, 1996, \n",
    "                 2000, 2004, 2008, 2012, 2016, 1984, 1988, 1992, 1996, 2000, 2004, 2008, 2012, 2016, 1984, 1988, 1992, 1996, 2000, 2004, 2008, 2012, \n",
    "                 2016],\n",
    "        'Medal Count': [352, 207, 222, 255, 240, 259, 309, 238, 256, 52, 35, 57, 130, 181, 157, 149, 114, 82, 0, 0, 0, 115, 187, 189, 142, 138, 113, \n",
    "                        0, 0 , 198, 122, 116, 147, 96, 92, 157, 74, 50, 70, 94, 65, 82, 170, 117, 109],\n",
    "        'Life Expectancy': [70, 70,70, 71, 72, 73, 74, 75, 75, 71, 71, 71, 72, 72, 74, 75, 76, 77, 0, 0, 0, 68, 68, 68, 68, 68, 67, 0, 0, 72, 71, 72, \n",
    "                            72, 73, 74, 75, 49,53, 57, 58, 62, 64, 66, 68, 69]}\n",
    "top5_medal_exp = pd.DataFrame(data)"
   ]
  },
  {
   "cell_type": "code",
   "execution_count": null,
   "id": "51fd9d87-6b25-45d4-8320-94791798b942",
   "metadata": {},
   "outputs": [],
   "source": [
    "top5_medal_exp.to_csv('medal_exp.csv', index=False)"
   ]
  },
  {
   "cell_type": "code",
   "execution_count": null,
   "id": "00c52bdc-8c52-4d60-be16-b974a912785e",
   "metadata": {},
   "outputs": [],
   "source": []
  },
  {
   "cell_type": "code",
   "execution_count": null,
   "id": "40300d3d-3d98-4503-b96a-bc4004dcee5a",
   "metadata": {},
   "outputs": [],
   "source": []
  },
  {
   "cell_type": "code",
   "execution_count": null,
   "id": "351e451c-f228-4273-ad75-b918d9b1c55b",
   "metadata": {},
   "outputs": [],
   "source": []
  },
  {
   "cell_type": "code",
   "execution_count": null,
   "id": "8ebb34b5-36a9-4747-91b1-86a3ab392428",
   "metadata": {},
   "outputs": [],
   "source": []
  },
  {
   "cell_type": "code",
   "execution_count": null,
   "id": "e9440258-5308-45cf-8e26-fd65b3c369b7",
   "metadata": {},
   "outputs": [],
   "source": []
  },
  {
   "cell_type": "code",
   "execution_count": null,
   "id": "d4208326-20cc-4b99-a08f-68ff7532605b",
   "metadata": {},
   "outputs": [],
   "source": []
  },
  {
   "cell_type": "code",
   "execution_count": null,
   "id": "e033b381-749e-498c-b379-09e1aa681b44",
   "metadata": {},
   "outputs": [],
   "source": []
  },
  {
   "cell_type": "code",
   "execution_count": null,
   "id": "ad61714c-f58a-4aee-a766-02918ecbfed9",
   "metadata": {},
   "outputs": [],
   "source": []
  },
  {
   "cell_type": "code",
   "execution_count": null,
   "id": "36b02fc4-f402-43a4-a11b-25c2ed5d9e9d",
   "metadata": {},
   "outputs": [],
   "source": []
  },
  {
   "cell_type": "code",
   "execution_count": null,
   "id": "d39c3fb7-f99c-4bc4-96c2-553b4be201ad",
   "metadata": {},
   "outputs": [],
   "source": []
  },
  {
   "cell_type": "code",
   "execution_count": null,
   "id": "0df8fa0e-8060-45e0-a602-0a6ab51dcb2c",
   "metadata": {},
   "outputs": [],
   "source": []
  },
  {
   "cell_type": "code",
   "execution_count": null,
   "id": "24f7c080-7fb0-45dc-87fc-57e6c7f74e94",
   "metadata": {},
   "outputs": [],
   "source": []
  },
  {
   "cell_type": "code",
   "execution_count": null,
   "id": "7b03ad3b-dd8e-457b-9be8-65d193a98738",
   "metadata": {},
   "outputs": [],
   "source": [
    "# ipl_tot.sort_values(by=(['Matches Won', 'Win Percent']), ascending=False, inplace=True)"
   ]
  },
  {
   "cell_type": "code",
   "execution_count": null,
   "id": "ea3a91cb-5950-4331-a1b6-39c2f88f79cb",
   "metadata": {},
   "outputs": [],
   "source": [
    "#https://pandas.pydata.org/docs/reference/api/pandas.melt.html"
   ]
  },
  {
   "cell_type": "code",
   "execution_count": null,
   "id": "611b465b-df32-467f-ba1f-2746fe041a77",
   "metadata": {},
   "outputs": [],
   "source": [
    "#https://www.geeksforgeeks.org/python-pandas-melt/"
   ]
  }
 ],
 "metadata": {
  "kernelspec": {
   "display_name": "Python 3 (ipykernel)",
   "language": "python",
   "name": "python3"
  },
  "language_info": {
   "codemirror_mode": {
    "name": "ipython",
    "version": 3
   },
   "file_extension": ".py",
   "mimetype": "text/x-python",
   "name": "python",
   "nbconvert_exporter": "python",
   "pygments_lexer": "ipython3",
   "version": "3.12.4"
  }
 },
 "nbformat": 4,
 "nbformat_minor": 5
}
