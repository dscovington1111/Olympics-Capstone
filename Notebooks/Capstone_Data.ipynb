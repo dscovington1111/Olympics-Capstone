{
 "cells": [
  {
   "cell_type": "code",
   "execution_count": null,
   "id": "271077bb-df61-462b-919e-bfc5e193ae92",
   "metadata": {},
   "outputs": [],
   "source": [
    "import pandas as pd\n",
    "import numpy as np\n",
    "import re \n",
    "import matplotlib.pyplot as plt\n",
    "import seaborn as sns"
   ]
  },
  {
   "cell_type": "code",
   "execution_count": null,
   "id": "2473f125-0cf0-418d-a7f6-86d1011fd25d",
   "metadata": {
    "scrolled": true
   },
   "outputs": [],
   "source": [
    "life_exp = pd.read_csv('../data/life-expectancy.csv')\n",
    "life_exp"
   ]
  },
  {
   "cell_type": "code",
   "execution_count": null,
   "id": "10b3f61f-4ef0-4147-adc0-e5b2feb55c43",
   "metadata": {
    "scrolled": true
   },
   "outputs": [],
   "source": [
    "life_exp = life_exp.rename(columns= {\n",
    "    \"Entity\": \"Country Name\", \n",
    "    \"Code\": \"Country Code\", \n",
    "    \"Period life expectancy at birth - Sex: total - Age: 0\": \"Life Expectancy\"})\n",
    "life_exp"
   ]
  },
  {
   "cell_type": "code",
   "execution_count": null,
   "id": "43c2606d-55d4-47b2-afa9-69e8772852af",
   "metadata": {
    "scrolled": true
   },
   "outputs": [],
   "source": [
    "gdp_per_capita = pd.read_csv('../data/gdp_per_cap_Data.csv')\n",
    "gdp_per_capita = gdp_per_capita.drop(columns = ['Series Code'])\n",
    "gdp_per_capita"
   ]
  },
  {
   "cell_type": "code",
   "execution_count": null,
   "id": "0e9e311a-dfe0-438d-aac1-3db5c9a1dbe8",
   "metadata": {
    "scrolled": true
   },
   "outputs": [],
   "source": [
    "col_list = gdp_per_capita.columns.to_list()[0:]\n",
    "col_list"
   ]
  },
  {
   "cell_type": "code",
   "execution_count": null,
   "id": "bd38b82c-c287-4d67-bed7-5dd64f711b06",
   "metadata": {
    "scrolled": true
   },
   "outputs": [],
   "source": [
    "gdp_per_capita = gdp_per_capita.melt(id_vars= ['Series Name', 'Country Name', 'Country Code'], value_vars = col_list)\n",
    "gdp_per_capita"
   ]
  },
  {
   "cell_type": "code",
   "execution_count": null,
   "id": "397df560-725d-468d-b7b9-f754719ee2f6",
   "metadata": {
    "scrolled": true
   },
   "outputs": [],
   "source": [
    "gdp_per_capita = gdp_per_capita.rename(columns = {'variable': 'Year', 'value': 'GDP per Capita'})\n",
    "gdp_per_capita"
   ]
  },
  {
   "cell_type": "code",
   "execution_count": null,
   "id": "e60603f5-dc86-42b0-b9fe-65a7b6f78caf",
   "metadata": {
    "scrolled": true
   },
   "outputs": [],
   "source": [
    "gdp_per_capita['Year'] = gdp_per_capita['Year'].str[:4]\n",
    "gdp_per_capita"
   ]
  },
  {
   "cell_type": "code",
   "execution_count": null,
   "id": "02d334de-0e87-46cc-9a9c-acef22ca3ef7",
   "metadata": {},
   "outputs": [],
   "source": [
    "gdp_per_capita = gdp_per_capita.loc[gdp_per_capita['Series Name'] == 'GDP per capita (current US$)'].reset_index(drop=True)\n",
    "gdp_per_capita = gdp_per_capita.drop(columns= ['Series Name'])\n",
    "gdp_per_capita"
   ]
  },
  {
   "cell_type": "code",
   "execution_count": null,
   "id": "7a815f8f-4e40-4c15-ad29-7256f47b055e",
   "metadata": {
    "scrolled": true
   },
   "outputs": [],
   "source": [
    "noc_regions = pd.read_csv('../data/noc_regions.csv')\n",
    "noc_regions\n",
    "# NOC= Nationaal Olympic Committee 3-Letter Code"
   ]
  },
  {
   "cell_type": "code",
   "execution_count": null,
   "id": "f84217c6-5cb1-4bf4-935b-12a287f8ed36",
   "metadata": {
    "scrolled": true
   },
   "outputs": [],
   "source": [
    "noc_regions = noc_regions.rename(columns = {'region': 'Country Name', 'notes': 'Region'})\n",
    "noc_regions"
   ]
  },
  {
   "cell_type": "code",
   "execution_count": null,
   "id": "6891df82-323c-4311-8448-5f9721992501",
   "metadata": {
    "scrolled": true
   },
   "outputs": [],
   "source": [
    "ath_events = pd.read_csv('../data/athlete_events.csv')\n",
    "ath_events"
   ]
  },
  {
   "cell_type": "code",
   "execution_count": null,
   "id": "c479edce-d936-4761-956b-99b147b51bee",
   "metadata": {
    "scrolled": true
   },
   "outputs": [],
   "source": [
    "ath_events['Birth Year'] = ath_events.Year - ath_events.Age\n",
    "ath_events = ath_events.loc[ath_events.Year >= 1984]\n",
    "ath_events"
   ]
  },
  {
   "cell_type": "code",
   "execution_count": null,
   "id": "4e8b3203-8897-43e4-b5af-51d9e97ac25f",
   "metadata": {
    "scrolled": true
   },
   "outputs": [],
   "source": [
    "gold_medalists = ath_events.loc[ath_events['Medal'] == 'Gold']\n",
    "\n",
    "gold_medalists = gold_medalists.reset_index(drop=True)\n",
    "\n",
    "gold_medalists"
   ]
  },
  {
   "cell_type": "code",
   "execution_count": null,
   "id": "077a75ba-f1e0-434d-8b9a-b7f2a802ecd6",
   "metadata": {
    "scrolled": true
   },
   "outputs": [],
   "source": [
    "silver_medalists = ath_events.loc[ath_events['Medal'] == 'Silver']\n",
    "\n",
    "silver_medalists = silver_medalists.reset_index(drop=True)\n",
    "\n",
    "silver_medalists"
   ]
  },
  {
   "cell_type": "code",
   "execution_count": null,
   "id": "9f26f92b-6f76-4b9c-bd9c-b9c2a4f92817",
   "metadata": {
    "scrolled": true
   },
   "outputs": [],
   "source": [
    "bronze_medalists = ath_events.loc[ath_events['Medal'] == 'Bronze']\n",
    "\n",
    "bronze_medalists = bronze_medalists.reset_index(drop=True)\n",
    "\n",
    "bronze_medalists"
   ]
  },
  {
   "cell_type": "code",
   "execution_count": null,
   "id": "83e1e65d-55e3-4df1-8211-922e7d7d33c9",
   "metadata": {
    "scrolled": true
   },
   "outputs": [],
   "source": [
    "ath_events['Name'].value_counts()"
   ]
  },
  {
   "cell_type": "code",
   "execution_count": null,
   "id": "b11a2c1f-9b0c-4e8d-a12c-d89d7ab5c097",
   "metadata": {},
   "outputs": [],
   "source": [
    "ath_events['Medal'].value_counts()"
   ]
  },
  {
   "cell_type": "code",
   "execution_count": null,
   "id": "c1683ae1-a3af-4a25-aa3e-1cfe5efd6c74",
   "metadata": {
    "scrolled": true
   },
   "outputs": [],
   "source": [
    "ath_events['Sport'].value_counts()"
   ]
  },
  {
   "cell_type": "code",
   "execution_count": null,
   "id": "a989b7ae-c9a1-41a3-a688-17cf83e81d7a",
   "metadata": {
    "scrolled": true
   },
   "outputs": [],
   "source": [
    "ath_events['Event'].value_counts()"
   ]
  },
  {
   "cell_type": "code",
   "execution_count": null,
   "id": "2a6765fb-7dff-46ab-af0c-eeb660f2fef8",
   "metadata": {
    "scrolled": true
   },
   "outputs": [],
   "source": [
    "frames = [gold_medalists, silver_medalists, bronze_medalists]\n",
    "\n",
    "medalists = pd.concat(frames)\n",
    "\n",
    "medalists.reset_index(drop=True)\n",
    "\n",
    "medalists = medalists.loc[medalists['Season'] == 'Summer'].reset_index(drop=True)\n",
    "\n",
    "medalists"
   ]
  },
  {
   "cell_type": "code",
   "execution_count": null,
   "id": "12c5c4d4-879c-4a7e-b9d1-3464a12be242",
   "metadata": {},
   "outputs": [],
   "source": [
    "medalists.Name.value_counts().head(7)"
   ]
  },
  {
   "cell_type": "code",
   "execution_count": null,
   "id": "aa911caf-89ef-4d63-abe6-1efa870f4ec2",
   "metadata": {
    "scrolled": true
   },
   "outputs": [],
   "source": [
    "top5_medalists = medalists.loc[medalists['Name'].isin(['Michael Fred Phelps, II', 'Jennifer Elisabeth \"Jenny\" Thompson (-Cumpelik)',\n",
    "                        'Ryan Steven Lochte', 'Dara Grace Torres (-Hoffman, -Minas)',\n",
    "                        'Natalie Anne Coughlin (-Hall)'])]\n",
    "\n",
    "top5_medalists = top5_medalists.reset_index(drop=True)\n",
    "\n",
    "top5_medalists"
   ]
  },
  {
   "cell_type": "code",
   "execution_count": null,
   "id": "f8114a9c-308a-47cd-80a0-5c5eea7f8018",
   "metadata": {},
   "outputs": [],
   "source": [
    "top5_medalists[['Name', 'Medal']].value_counts()"
   ]
  },
  {
   "cell_type": "code",
   "execution_count": null,
   "id": "4eec0b15-1436-4d30-83ef-d597ac4d85ee",
   "metadata": {},
   "outputs": [],
   "source": [
    "top5_medalists['Age'].describe()"
   ]
  },
  {
   "cell_type": "code",
   "execution_count": null,
   "id": "5688ff27-95cf-4bab-8f66-1901bd1515c8",
   "metadata": {},
   "outputs": [],
   "source": [
    "data = {'Name': ['Michael Fred Phelps, II', 'Jennifer Elisabeth \"Jenny\" Thompson (-Cumpelik)','Ryan Steven Lochte', \n",
    "                 'Dara Grace Torres (-Hoffman, -Minas)', 'Natalie Anne Coughlin (-Hall)'],\n",
    "        'Gold': [23, 8, 6,  4, 3],\n",
    "        'Silver': [3, 3, 3, 4, 4],\n",
    "        'Bronze': [2, 1, 3, 4, 5]}\n",
    "\n",
    "top5_medals_count = pd.DataFrame(data)\n",
    "\n",
    "top5_medals_count"
   ]
  },
  {
   "cell_type": "code",
   "execution_count": null,
   "id": "141ea3ed-fc78-4add-8e1a-29ac7630759f",
   "metadata": {
    "scrolled": true
   },
   "outputs": [],
   "source": [
    "top5_medals_count.plot(kind='bar', stacked=True, x='Name', color=['yellow', 'silver', 'brown'])\n",
    "\n",
    "plt.xlabel('Athlete')\n",
    "plt.ylabel('Medal Tally')\n",
    "plt.title('Top 5 Athletes w/ Most Medals')\n",
    "plt.legend(bbox_to_anchor = (1, 0.8), loc = 'upper left')\n",
    "plt.savefig('top5_overall.png', transparent=True, bbox_inches='tight')\n",
    "plt.show()"
   ]
  },
  {
   "cell_type": "code",
   "execution_count": null,
   "id": "6febeca4-9936-4c2e-b515-d2f135f2258d",
   "metadata": {
    "scrolled": true
   },
   "outputs": [],
   "source": [
    "country_medals = medalists[['Team', 'Medal']].value_counts()\n",
    "country_medals = country_medals.to_frame().reset_index()\n",
    "country_medals.head(15)"
   ]
  },
  {
   "cell_type": "code",
   "execution_count": null,
   "id": "8442f52c-c14b-41aa-af15-903a6ea633ba",
   "metadata": {
    "scrolled": true
   },
   "outputs": [],
   "source": [
    "top_sport = medalists[['Sport', 'Medal']]\n",
    "grouped = top_sport.groupby('Sport')\n",
    "top_sport = grouped['Medal'].value_counts()\n",
    "top_sport = top_sport.to_frame().reset_index()\n",
    "top_sport"
   ]
  },
  {
   "cell_type": "code",
   "execution_count": null,
   "id": "d72a69e3-5434-4e3a-9462-d8a093c523dc",
   "metadata": {
    "scrolled": true
   },
   "outputs": [],
   "source": [
    "top_sport.sort_values(by='count', ascending=False).head(16)"
   ]
  },
  {
   "cell_type": "code",
   "execution_count": null,
   "id": "b7ef0e20-67d9-4e7d-8c14-eb32c3f39030",
   "metadata": {},
   "outputs": [],
   "source": [
    "data = {'Sport': ['Athletics', 'Swimming', 'Rowing', 'Hockey', 'Handball'],\n",
    "        'Medals': [(554 + 549 + 538), (583 + 532 + 510), (447 + 451 + 450),\n",
    "                  (290 + 288 + 289), (258 + 264 + 265)]}\n",
    "\n",
    "custom_palette = sns.color_palette([\"#0081C8\", \"#FCB131\", \"#00A651\", \"#EE334E\", \"#000000\"])\n",
    "\n",
    "ax = sns.barplot(x='Sport', y='Medals', data=data, palette=custom_palette, hue='Sport', legend=False)\n",
    "ax.bar_label(ax.containers[0])\n",
    "ax.bar_label(ax.containers[1])\n",
    "ax.bar_label(ax.containers[2])\n",
    "ax.bar_label(ax.containers[3])\n",
    "ax.bar_label(ax.containers[4])\n",
    "plt.title('Top Sports')\n",
    "plt.xlabel('Sport Type')\n",
    "plt.ylabel('Total Medals')\n",
    "plt.savefig('top_sports.png', transparent=True)\n",
    "\n",
    "plt.show()"
   ]
  },
  {
   "cell_type": "code",
   "execution_count": null,
   "id": "e4c1e7ef-eaab-4284-aa96-1e2e05de2486",
   "metadata": {
    "scrolled": true
   },
   "outputs": [],
   "source": [
    "country_medals.head(15)"
   ]
  },
  {
   "cell_type": "code",
   "execution_count": null,
   "id": "721b967f-0944-43ff-ab79-3900e51a080f",
   "metadata": {},
   "outputs": [],
   "source": [
    "data = {'Team': ['United States', 'Australia', 'Germany', 'Russia', 'China'],\n",
    "        'Medals': [(1157+631+550), (250+322+385), (324+244+360), (293+271+320), (294+299+238)]}\n",
    "\n",
    "custom_palette = sns.color_palette([\"#0081C8\", \"#FCB131\", \"#00A651\", \"#EE334E\", \"#000000\"])\n",
    "\n",
    "ax = sns.barplot(x='Team', y='Medals', data=data, palette=custom_palette, hue='Team', legend=False)\n",
    "ax.bar_label(ax.containers[0])\n",
    "ax.bar_label(ax.containers[1])\n",
    "ax.bar_label(ax.containers[2])\n",
    "ax.bar_label(ax.containers[3])\n",
    "ax.bar_label(ax.containers[4])\n",
    "plt.title('Top Teams')\n",
    "plt.xlabel('Team')\n",
    "plt.ylabel('Total Medals')\n",
    "plt.savefig('country_medals.png', transparent=True)\n",
    "\n",
    "plt.show()"
   ]
  },
  {
   "cell_type": "code",
   "execution_count": null,
   "id": "531df7c9-7ff4-49e9-b54e-4a08809fc6d5",
   "metadata": {},
   "outputs": [],
   "source": [
    "data = {'Team': ['United States', 'Australia', 'Germany', 'Russia', 'China'],\n",
    "        \n",
    "        'Gold': [1157, 250, 324,  293, 294],\n",
    "        'Silver': [631, 322, 244, 271, 299],\n",
    "        'Bronze': [550, 385, 360, 320, 238]}\n",
    "\n",
    "country_breakdown = pd.DataFrame(data)\n",
    "\n",
    "country_breakdown"
   ]
  },
  {
   "cell_type": "code",
   "execution_count": null,
   "id": "7a3906ac-e085-4ad9-9113-5767fc795835",
   "metadata": {
    "scrolled": true
   },
   "outputs": [],
   "source": [
    "country_breakdown.plot(kind='bar', x='Team', color=['yellow', 'silver', 'brown'])\n",
    "\n",
    "plt.xlabel('Team')\n",
    "plt.ylabel('Medal Total')\n",
    "plt.title('Team Medal Breakdown')\n",
    "plt.legend(bbox_to_anchor = (1, 0.8), loc = 'upper left')\n",
    "plt.savefig('medal_breakdown.png', transparent=True, bbox_inches='tight')\n",
    "plt.show()"
   ]
  },
  {
   "cell_type": "code",
   "execution_count": null,
   "id": "c0ff6dab-f16d-4927-ba4d-c504e2b10dd6",
   "metadata": {},
   "outputs": [],
   "source": [
    "athletics = medalists.loc[medalists['Sport'] == 'Athletics'].reset_index(drop=True)\n",
    "athletics[['Team', 'Medal']].value_counts().head(25)"
   ]
  },
  {
   "cell_type": "code",
   "execution_count": null,
   "id": "1268da1d-70b6-4555-9a8f-a8f3566749d8",
   "metadata": {},
   "outputs": [],
   "source": [
    "data = {'Team': ['United States', 'Jamaica', 'Great Britain', 'Russia', 'Kenya'],\n",
    "        'Gold': [200, 31, 20, 29, 25],\n",
    "        'Silver': [104, 68, 35, 45, 31],\n",
    "        'Bronze': [65, 40, 45, 29, 22]}\n",
    "athletics_breakdown = pd.DataFrame(data)\n",
    "athletics_breakdown"
   ]
  },
  {
   "cell_type": "code",
   "execution_count": null,
   "id": "2b564646-0aa9-452b-8639-5182d5ef7f3a",
   "metadata": {},
   "outputs": [],
   "source": [
    "athletics_breakdown.plot(kind='barh', x='Team', color=['yellow', 'silver', 'brown'])\n",
    "\n",
    "plt.xlabel('Team')\n",
    "plt.ylabel('Medal Total')\n",
    "plt.title('Athletics Medal Breakdown by Top Teams')\n",
    "plt.legend(bbox_to_anchor = (1, 0.8), loc = 'upper left')\n",
    "plt.savefig('athletics_breakdown.png', transparent=True, bbox_inches='tight')\n",
    "plt.show()"
   ]
  },
  {
   "cell_type": "code",
   "execution_count": null,
   "id": "8cd44148-f738-42bb-9270-17b40915586d",
   "metadata": {},
   "outputs": [],
   "source": [
    "athletics_top5 = medalists.loc[medalists['Sport'] == 'Athletics'].reset_index(drop=True)\n",
    "athletics_top5['Name'].value_counts().head()"
   ]
  },
  {
   "cell_type": "code",
   "execution_count": null,
   "id": "d79f9549-91be-4e90-bae4-1de7d70eabab",
   "metadata": {
    "scrolled": true
   },
   "outputs": [],
   "source": [
    "athletics_top5 = athletics_top5.loc[athletics_top5['Name'].isin(['Frederick Carlton \"Carl\" Lewis', 'Allyson Michelle Felix', \n",
    "                                                                 'Usain St. Leo Bolt', 'Veronica Angella Campbell-Brown', \n",
    "                                                                 'Merlene Joyce Ottey-Page'])].reset_index(drop=True)\n",
    "athletics_top5[['Name', 'Medal']].value_counts()"
   ]
  },
  {
   "cell_type": "code",
   "execution_count": null,
   "id": "e79ac613-d1ba-40af-89fe-56c5eb795f2f",
   "metadata": {},
   "outputs": [],
   "source": [
    "data = {'Name': ['Frederick Carlton \"Carl\" Lewis', 'Allyson Michelle Felix', 'Usain St. Leo Bolt', \n",
    "                 'Veronica Angella Campbell-Brown', 'Merlene Joyce Ottey-Page'],\n",
    "        'Gold': [9, 6, 8, 3, 0],\n",
    "        'Silver': [1, 3, 0, 3, 3],\n",
    "        'Bronze': [0, 0, 0, 2, 5]}\n",
    "athletics5_breakdown = pd.DataFrame(data)\n",
    "athletics5_breakdown"
   ]
  },
  {
   "cell_type": "code",
   "execution_count": null,
   "id": "3d181f09-70f5-4f11-8b79-5466e9fa2a68",
   "metadata": {},
   "outputs": [],
   "source": [
    "athletics5_breakdown.plot(kind='bar', stacked=True, x='Name', color=['yellow', 'silver', 'brown'])\n",
    "\n",
    "plt.xlabel('Athlete')\n",
    "plt.ylabel('Medal Total')\n",
    "plt.title('Athletics Top Performers')\n",
    "plt.legend(bbox_to_anchor = (1, 0.8), loc = 'upper left')\n",
    "plt.savefig('athletics_top5.png', transparent=True, bbox_inches='tight')\n",
    "plt.show()"
   ]
  },
  {
   "cell_type": "code",
   "execution_count": null,
   "id": "7fb49af0-7bb1-4cf6-8ca1-cd7f42efa2e5",
   "metadata": {},
   "outputs": [],
   "source": [
    "olympic_games = medalists[['Team', 'Games', 'Medal']]\n",
    "grouped = olympic_games.groupby(['Team', 'Games'])\n",
    "olympic_games = grouped['Medal'].value_counts().reset_index()"
   ]
  },
  {
   "cell_type": "code",
   "execution_count": null,
   "id": "d1d56e3e-cd3f-445f-937b-72ce5dfe9be8",
   "metadata": {
    "scrolled": true
   },
   "outputs": [],
   "source": [
    "olympic5 =olympic_games.loc[olympic_games['Team'].isin(['United States', 'Australia', 'Germany', 'Russia', 'China'])]\n",
    "olympic5.head(60)"
   ]
  },
  {
   "cell_type": "code",
   "execution_count": null,
   "id": "9441d76c-478d-42e4-bf8d-18ef7f4f2b86",
   "metadata": {},
   "outputs": [],
   "source": [
    "medal_trends = pd.DataFrame({\n",
    "    'United States': [(186+116+50), (87+66+54), (87+85+50), (157+52+46), (128+61+51), (115+75+69), (121+110+78), (139+55+44), (137+67+52)],\n",
    "    'Australia': [(7+14+31), (18+6+11), (14+27+16), (32+16+82), (58+69+54), (49+77+31), (31+42+76), (18+37+59), (23+34+25)],\n",
    "    'Germany': [0, 0, (81+57+60), (42+35+45), (31+23+62), (41+43+63), (39+16+41), (43+27+22), (47+43+67)],\n",
    "    'Russia': [0, 0, 0, (36+45+34), (66+67+54), (48+46+95), (43+46+53), (50+39+49), (50+28+35)],\n",
    "    'China': [(24+13+37), (4+16+30), (14+41+15), (13+66+15), (31+19+15), (42+27+13), (72+49+49), (50+38+29), (44+30+35)]},\n",
    "                            index=[1984, 1988, 1992, 1996, 2000, 2004, 2008, 2012, 2016])"
   ]
  },
  {
   "cell_type": "code",
   "execution_count": null,
   "id": "151cbbce-4c00-4dfd-91b7-422c1bab6c76",
   "metadata": {},
   "outputs": [],
   "source": [
    "medal_trends.plot.line()\n",
    "\n",
    "plt.title('Top Teams Medals Over Time')\n",
    "plt.xlabel('Year')\n",
    "plt.ylabel('Medal Count')\n",
    "plt.legend(bbox_to_anchor= (1,0.8), loc= 'upper left')\n",
    "plt.savefig('medals_by_year.png', transparent=True, bbox_inches='tight')\n",
    "plt.show()"
   ]
  },
  {
   "cell_type": "code",
   "execution_count": null,
   "id": "0619423e-a785-42cf-9ff4-11b513429125",
   "metadata": {},
   "outputs": [],
   "source": [
    "medal_trends.describe()"
   ]
  },
  {
   "cell_type": "code",
   "execution_count": null,
   "id": "89e15f18-64fc-4d19-9214-f8ceed12c90f",
   "metadata": {},
   "outputs": [],
   "source": [
    "medalists_gdp = gdp_per_capita.loc[(gdp_per_capita['Year'] == '1984') | (gdp_per_capita['Year'] == '1988') | (gdp_per_capita['Year'] == '1992') |\n",
    "                    (gdp_per_capita['Year'] == '1996') | (gdp_per_capita['Year'] == '2000') | (gdp_per_capita['Year'] == '2004') | \n",
    "                    (gdp_per_capita['Year'] == '2008') | (gdp_per_capita['Year'] == '2012') | (gdp_per_capita['Year'] == '2016')].reset_index(drop=True)\n",
    "medalists_gdp"
   ]
  },
  {
   "cell_type": "code",
   "execution_count": null,
   "id": "8aa8e473-6bb6-4469-a4ce-4d90e9c50974",
   "metadata": {
    "scrolled": true
   },
   "outputs": [],
   "source": [
    "medalists"
   ]
  },
  {
   "cell_type": "code",
   "execution_count": null,
   "id": "f54c779a-39e6-4946-aeba-4462563a84e7",
   "metadata": {},
   "outputs": [],
   "source": [
    "noc_list = noc_regions['NOC'].to_list()"
   ]
  },
  {
   "cell_type": "code",
   "execution_count": null,
   "id": "f0bff49a-51e9-4e95-bf40-66688477b0bc",
   "metadata": {
    "scrolled": true
   },
   "outputs": [],
   "source": [
    "medalist_gdp = medalists_gdp.loc[medalists_gdp['Country Code'].isin(noc_list)]\n",
    "medalist_gdp = medalists_gdp.rename(columns= {'Country Code': 'NOC'})\n",
    "medalist_gdp"
   ]
  },
  {
   "cell_type": "code",
   "execution_count": null,
   "id": "c9897860-1f77-48ed-8a88-7aca8cc8e4c8",
   "metadata": {},
   "outputs": [],
   "source": [
    "pd.concat([medalists, medalist_gdp], keys=['NOC'])"
   ]
  },
  {
   "cell_type": "code",
   "execution_count": null,
   "id": "e4f87dba-9d30-4932-8017-eeeba8019de3",
   "metadata": {},
   "outputs": [],
   "source": []
  },
  {
   "cell_type": "code",
   "execution_count": null,
   "id": "523430a1-e357-4e46-adec-d244c1709980",
   "metadata": {},
   "outputs": [],
   "source": [
    "athletics_top5"
   ]
  },
  {
   "cell_type": "code",
   "execution_count": null,
   "id": "a7238330-fded-41ae-bf8a-5768022b7abb",
   "metadata": {},
   "outputs": [],
   "source": []
  },
  {
   "cell_type": "code",
   "execution_count": null,
   "id": "eb96b297-0616-4cdc-9ceb-bd2938b1a0c0",
   "metadata": {},
   "outputs": [],
   "source": []
  },
  {
   "cell_type": "code",
   "execution_count": null,
   "id": "ee33ed34-e47c-4af4-b9d0-e4ed4963bb19",
   "metadata": {},
   "outputs": [],
   "source": []
  },
  {
   "cell_type": "code",
   "execution_count": null,
   "id": "9ddd8382-9f5e-494b-b948-80705859791e",
   "metadata": {},
   "outputs": [],
   "source": []
  },
  {
   "cell_type": "code",
   "execution_count": null,
   "id": "503afc60-85d7-4f63-8104-ef82b08646a7",
   "metadata": {},
   "outputs": [],
   "source": []
  },
  {
   "cell_type": "code",
   "execution_count": null,
   "id": "54dc8e77-bbc9-439e-b3bf-65c8a7f6be81",
   "metadata": {},
   "outputs": [],
   "source": []
  },
  {
   "cell_type": "code",
   "execution_count": null,
   "id": "88e0bee2-9ad0-4483-8ce2-25bbd1fd6da0",
   "metadata": {},
   "outputs": [],
   "source": []
  },
  {
   "cell_type": "code",
   "execution_count": null,
   "id": "f8f9c85f-ce8c-45ed-bad9-24b50e6ab4ed",
   "metadata": {},
   "outputs": [],
   "source": []
  },
  {
   "cell_type": "code",
   "execution_count": null,
   "id": "90b31671-d1cd-4af0-9cfe-47d344b0117c",
   "metadata": {},
   "outputs": [],
   "source": []
  },
  {
   "cell_type": "code",
   "execution_count": null,
   "id": "c31b32b1-9e4b-43ff-abbe-d17858817525",
   "metadata": {},
   "outputs": [],
   "source": []
  },
  {
   "cell_type": "code",
   "execution_count": null,
   "id": "375bf27e-8e91-425d-a286-78fcb5d4406e",
   "metadata": {},
   "outputs": [],
   "source": []
  },
  {
   "cell_type": "code",
   "execution_count": null,
   "id": "7b03ad3b-dd8e-457b-9be8-65d193a98738",
   "metadata": {},
   "outputs": [],
   "source": [
    "# ipl_tot.sort_values(by=(['Matches Won', 'Win Percent']), ascending=False, inplace=True)"
   ]
  },
  {
   "cell_type": "code",
   "execution_count": null,
   "id": "5b3c4ce3-205f-4888-95c1-7e84da817ae9",
   "metadata": {},
   "outputs": [],
   "source": [
    "#pandas melt"
   ]
  },
  {
   "cell_type": "code",
   "execution_count": null,
   "id": "ea3a91cb-5950-4331-a1b6-39c2f88f79cb",
   "metadata": {},
   "outputs": [],
   "source": [
    "#https://pandas.pydata.org/docs/reference/api/pandas.melt.html"
   ]
  },
  {
   "cell_type": "code",
   "execution_count": null,
   "id": "611b465b-df32-467f-ba1f-2746fe041a77",
   "metadata": {},
   "outputs": [],
   "source": [
    "#https://www.geeksforgeeks.org/python-pandas-melt/"
   ]
  },
  {
   "cell_type": "code",
   "execution_count": null,
   "id": "212f6e3c-03c6-45f1-8c5f-e152110b932a",
   "metadata": {},
   "outputs": [],
   "source": []
  },
  {
   "cell_type": "code",
   "execution_count": null,
   "id": "09841d43-9081-4e55-bcf4-88b98ddaabc1",
   "metadata": {},
   "outputs": [],
   "source": []
  },
  {
   "cell_type": "code",
   "execution_count": null,
   "id": "e865195c-12df-4308-9f19-aebd08c0600c",
   "metadata": {},
   "outputs": [],
   "source": []
  },
  {
   "cell_type": "code",
   "execution_count": null,
   "id": "8eb13221-54ee-45f1-8f9c-e000ca22bc21",
   "metadata": {},
   "outputs": [],
   "source": []
  }
 ],
 "metadata": {
  "kernelspec": {
   "display_name": "Python 3 (ipykernel)",
   "language": "python",
   "name": "python3"
  },
  "language_info": {
   "codemirror_mode": {
    "name": "ipython",
    "version": 3
   },
   "file_extension": ".py",
   "mimetype": "text/x-python",
   "name": "python",
   "nbconvert_exporter": "python",
   "pygments_lexer": "ipython3",
   "version": "3.12.4"
  }
 },
 "nbformat": 4,
 "nbformat_minor": 5
}
